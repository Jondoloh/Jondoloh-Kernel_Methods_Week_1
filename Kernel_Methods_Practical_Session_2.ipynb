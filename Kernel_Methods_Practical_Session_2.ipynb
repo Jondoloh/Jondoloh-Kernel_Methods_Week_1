{
  "cells": [
    {
      "cell_type": "markdown",
      "metadata": {
        "id": "view-in-github",
        "colab_type": "text"
      },
      "source": [
        "<a href=\"https://colab.research.google.com/github/Jondoloh/Jondoloh-Kernel_Methods_Week_1/blob/main/Kernel_Methods_Practical_Session_2.ipynb\" target=\"_parent\"><img src=\"https://colab.research.google.com/assets/colab-badge.svg\" alt=\"Open In Colab\"/></a>"
      ]
    },
    {
      "cell_type": "markdown",
      "metadata": {
        "id": "JRz-Qsi-mbVN"
      },
      "source": [
        "# Practical Session 2\n",
        "### Kernel Methods for Machine Learning"
      ]
    },
    {
      "cell_type": "markdown",
      "metadata": {
        "id": "N5nwk0VXmbVP"
      },
      "source": [
        "Written by Yunlong Jiao / Romain Menegaux, 21 June 2022"
      ]
    },
    {
      "cell_type": "code",
      "execution_count": null,
      "metadata": {
        "id": "PcpVEA6UmbVQ"
      },
      "outputs": [],
      "source": [
        "# setup\n",
        "import numpy as np"
      ]
    },
    {
      "cell_type": "code",
      "execution_count": null,
      "metadata": {
        "id": "yqIu8fu1mbVR",
        "colab": {
          "base_uri": "https://localhost:8080/"
        },
        "outputId": "3c2de457-04c8-40b0-ee93-090067e198a2"
      },
      "outputs": [
        {
          "output_type": "stream",
          "name": "stdout",
          "text": [
            "3.7.13 (default, Apr 24 2022, 01:04:09) \n",
            "[GCC 7.5.0]\n"
          ]
        }
      ],
      "source": [
        "import sys\n",
        "print(sys.version)"
      ]
    },
    {
      "cell_type": "code",
      "execution_count": null,
      "metadata": {
        "id": "iy-L-mN7mbVS",
        "colab": {
          "base_uri": "https://localhost:8080/",
          "height": 57
        },
        "outputId": "a010efef-b88d-415d-9372-9b29f4701b02"
      },
      "outputs": [
        {
          "output_type": "execute_result",
          "data": {
            "text/plain": [
              "'1.0.2'"
            ],
            "application/vnd.google.colaboratory.intrinsic+json": {
              "type": "string"
            }
          },
          "metadata": {},
          "execution_count": 3
        }
      ],
      "source": [
        "import sklearn\n",
        "from sklearn import linear_model as lm\n",
        "sklearn.__version__"
      ]
    },
    {
      "cell_type": "markdown",
      "metadata": {
        "id": "wNcHaTgbmbVS"
      },
      "source": [
        "***\n",
        "## Tasks"
      ]
    },
    {
      "cell_type": "markdown",
      "metadata": {
        "id": "JGMsBlD1mbVS"
      },
      "source": [
        "1. Implement (naive) solvers to Ridge Regression, Weighted Ridge Regression and Logistic Ridge Regression (using Iteratively Reweighted Least Squares). See notes for the mathematical derivation.\n",
        "2. Simulate some toy data to check if our solvers give correct solutions."
      ]
    },
    {
      "cell_type": "markdown",
      "metadata": {
        "id": "69u49ZkZmbVS"
      },
      "source": [
        "***\n",
        "### Ridge Regression (RR)\n",
        "\n",
        "Given $X \\in \\mathbb{R}^{n \\times p}$ and $y \\in \\mathbb{R}^n$, solve\n",
        "$$\n",
        "\\min_{\\beta \\in \\mathbb{R}^p} \\frac{1}{n} \\|y - X \\beta\\|^2 + \\lambda \\|\\beta\\|^2 \\,.\n",
        "$$"
      ]
    },
    {
      "cell_type": "code",
      "source": [
        "# def solveRR(y, X, lam):\n",
        "#     n, p = X.shape\n",
        "#     assert (len(y) == n)\n",
        "\n",
        "#     A = X.T.dot(X)\n",
        "#     # Adjust diagonal due to Ridge\n",
        "#     # A[np.diag_indices_from(A)] += lam * n\n",
        "#     A += n * lam * np.eye(p)\n",
        "#     b = X.T.dot(y)\n",
        "#     # Hint:\n",
        "#     beta = np.linalg.solve(A, b)\n",
        "#     # Finds solution to the linear system Ax = b\n",
        "#     return (beta)"
      ],
      "metadata": {
        "id": "PJZx4eBBsqdb"
      },
      "execution_count": null,
      "outputs": []
    },
    {
      "cell_type": "code",
      "execution_count": null,
      "metadata": {
        "id": "w-tV1IaBmbVT"
      },
      "outputs": [],
      "source": [
        "# Ridge Regression (RR)\n",
        "def solveRR(y, X, lam):\n",
        "    n, p = X.shape\n",
        "    assert (len(y) == n)\n",
        "    \n",
        "    # Hint:\n",
        "    # beta = np.linalg.solve(A, b)\n",
        "    # Finds solution to the linear system Ax = b\n",
        "    #A= (X.T@X + lam*np.identity(p))\n",
        "    A= (X.T@X + lam*np.eye(p))\n",
        "    b = X.T @ y\n",
        "    beta = np.linalg.solve(A, b)\n",
        "    return (beta)"
      ]
    },
    {
      "cell_type": "markdown",
      "metadata": {
        "id": "878BmK2jmbVT"
      },
      "source": [
        "### Evaluation of our Ridge Regression solver:\n",
        "#### One-dimensional data\n",
        "(for visualization purposes)"
      ]
    },
    {
      "cell_type": "code",
      "execution_count": null,
      "metadata": {
        "id": "oKriuMKmmbVT",
        "colab": {
          "base_uri": "https://localhost:8080/"
        },
        "outputId": "9181870e-e460-4916-f766-69bfffd6a1b1"
      },
      "outputs": [
        {
          "output_type": "stream",
          "name": "stdout",
          "text": [
            "[0.78424496]\n"
          ]
        }
      ],
      "source": [
        "np.random.seed(42)\n",
        "n = 100\n",
        "X = np.random.rand(n)\n",
        "beta_star = 0.8\n",
        "y = X * beta_star + 0.1 * np.random.normal(0, 1, n)\n",
        "\n",
        "lam = .1\n",
        "beta_hat = solveRR(y, X[:, None], lam)\n",
        "\n",
        "print(beta_hat)"
      ]
    },
    {
      "cell_type": "code",
      "execution_count": null,
      "metadata": {
        "id": "TZFhOva8mbVU",
        "colab": {
          "base_uri": "https://localhost:8080/",
          "height": 478
        },
        "outputId": "f1ed6db5-3408-4ea6-c828-1a0ba38aa09e"
      },
      "outputs": [
        {
          "output_type": "display_data",
          "data": {
            "text/plain": [
              "<Figure size 576x504 with 1 Axes>"
            ],
            "image/png": "[encoded data removed]"
          },
          "metadata": {
            "needs_background": "light"
          }
        }
      ],
      "source": [
        "import matplotlib.pyplot as plt\n",
        "\n",
        "plt.figure(figsize=(8,7))\n",
        "plt.title('Ridge regression, lambda = {}'.format(lam))\n",
        "plt.scatter(X, y)\n",
        "plt.plot(X, X * beta_hat, c='r')\n",
        "plt.xlabel('$x$')\n",
        "plt.ylabel('$y$')\n",
        "plt.show()"
      ]
    },
    {
      "cell_type": "markdown",
      "metadata": {
        "id": "jwpsXXJPmbVU"
      },
      "source": [
        "#### Evaluation on p-dimensional data\n",
        "---"
      ]
    },
    {
      "cell_type": "code",
      "execution_count": null,
      "metadata": {
        "id": "tYyaTsLombVU"
      },
      "outputs": [],
      "source": [
        "# Toy data\n",
        "np.random.seed(42) # for reproducibility\n",
        "n = 100 # number of samples\n",
        "p = 10 # number of features\n",
        "X = np.random.normal(0, 1, (n, p))\n",
        "X = sklearn.preprocessing.scale(X) # scale to 0 mean and 1 standard deviation\n",
        "beta_star = np.random.normal(0, 1, p)\n",
        "# y = X * beta + noise\n",
        "y = X.dot(beta_star) + 0.2 * np.random.normal(0, 1, n) \n",
        "\n",
        "def compare(beta1, beta2):\n",
        "    print('''\n",
        "Our solver:\n",
        "{}\n",
        "Scikit-learn:\n",
        "{}\n",
        "\n",
        "Difference between the two:\n",
        "{:.1e}\n",
        "        '''.format(beta1.round(2), beta2.round(2), float(np.sum((beta1-beta2)**2)))\n",
        "    )"
      ]
    },
    {
      "cell_type": "code",
      "execution_count": null,
      "metadata": {
        "id": "5OKdHquYmbVV",
        "colab": {
          "base_uri": "https://localhost:8080/"
        },
        "outputId": "ffe40f68-e31b-4044-e4f8-cdc50b7b53f8"
      },
      "outputs": [
        {
          "output_type": "stream",
          "name": "stdout",
          "text": [
            "\n",
            "Our solver:\n",
            "[ 1.4   0.92  0.05 -0.64  0.71  0.37  0.89  0.67  1.09 -0.53]\n",
            "Scikit-learn:\n",
            "[ 1.28  0.79  0.05 -0.55  0.65  0.33  0.77  0.63  0.97 -0.53]\n",
            "\n",
            "Difference between the two:\n",
            "7.3e-02\n",
            "        \n"
          ]
        },
        {
          "output_type": "stream",
          "name": "stderr",
          "text": [
            "/usr/local/lib/python3.7/dist-packages/sklearn/linear_model/_base.py:155: FutureWarning: 'normalize' was deprecated in version 1.0 and will be removed in 1.2. Please leave the normalize parameter to its default value to silence this warning. The default behavior of this estimator is to not do any normalization. If normalization is needed please use sklearn.preprocessing.StandardScaler instead.\n",
            "  FutureWarning,\n"
          ]
        }
      ],
      "source": [
        "lam = 0.1\n",
        "\n",
        "# Our solver\n",
        "beta1 = solveRR(y, X, lam)\n",
        "\n",
        "# Python solver\n",
        "alpha = lam * X.shape[0]\n",
        "model = lm.Ridge(alpha=alpha, fit_intercept=False, normalize=False)\n",
        "beta2 = model.fit(X, y).coef_\n",
        "\n",
        "# Check\n",
        "compare(beta1, beta2)"
      ]
    },
    {
      "cell_type": "markdown",
      "metadata": {
        "id": "JaEmkNfRmbVV"
      },
      "source": [
        "***\n",
        "### Weighted Ridge Regression (WRR)\n",
        "\n",
        "Given $X \\in \\mathbb{R}^{n \\times p}$ and $y \\in \\mathbb{R}^n$, and weights $w \\in \\mathbb{R}^n_+$, solve\n",
        "$$\n",
        "\\min_{\\beta \\in \\mathbb{R}^p} \\frac{1}{n} \\sum_{i=1}^n w_i (y_i - \\beta^\\top x_i)^2 + \\lambda \\|\\beta\\|^2 \\,.\n",
        "$$\n",
        "\n",
        "**Goal:** Express the objective as a regular Ridge Regression (RR)"
      ]
    },
    {
      "cell_type": "code",
      "execution_count": null,
      "metadata": {
        "id": "-JTcbkjQmbVW"
      },
      "outputs": [],
      "source": [
        "# Weighted Ridge Regression (WRR)\n",
        "def solveWRR(y, X, w, lam):\n",
        "    n, p = X.shape\n",
        "    assert (len(y) == len(w) == n)\n",
        "\n",
        "    # Hint:\n",
        "    # Find y1 and X1 such that:\n",
        "    y1 = np.sqrt(w)*y\n",
        "    X1 = (np.sqrt(w)*X.T).T\n",
        "    beta = solveRR(y1, X1, lam)\n",
        "    return (beta)"
      ]
    },
    {
      "cell_type": "markdown",
      "metadata": {
        "id": "dyVGA4fPmbVW"
      },
      "source": [
        "**Try it out:**"
      ]
    },
    {
      "cell_type": "code",
      "execution_count": null,
      "metadata": {
        "id": "VilXyIkQmbVX",
        "colab": {
          "base_uri": "https://localhost:8080/"
        },
        "outputId": "982c4a68-5842-4521-9128-eb98df0ccdfc"
      },
      "outputs": [
        {
          "output_type": "stream",
          "name": "stdout",
          "text": [
            "\n",
            "Our solver:\n",
            "[ 1.39  0.91  0.05 -0.66  0.71  0.4   0.93  0.66  1.09 -0.53]\n",
            "Scikit-learn:\n",
            "[ 1.15  0.66  0.07 -0.44  0.6   0.29  0.66  0.59  0.88 -0.54]\n",
            "\n",
            "Difference between the two:\n",
            "3.2e-01\n",
            "        \n"
          ]
        },
        {
          "output_type": "stream",
          "name": "stderr",
          "text": [
            "/usr/local/lib/python3.7/dist-packages/sklearn/linear_model/_base.py:155: FutureWarning: 'normalize' was deprecated in version 1.0 and will be removed in 1.2. Please leave the normalize parameter to its default value to silence this warning. The default behavior of this estimator is to not do any normalization. If normalization is needed please use sklearn.preprocessing.StandardScaler instead.\n",
            "  FutureWarning,\n"
          ]
        }
      ],
      "source": [
        "lam = 0.1\n",
        "w = np.random.rand(len(y))\n",
        "\n",
        "# Our solver\n",
        "beta1 = solveWRR(y, X, w, lam)\n",
        "\n",
        "# Python solver\n",
        "alpha = lam * X.shape[0]\n",
        "model = lm.Ridge(alpha=alpha, fit_intercept=False, normalize=False)\n",
        "beta2 = model.fit(X, y, sample_weight=w).coef_\n",
        "\n",
        "# Check\n",
        "compare(beta1, beta2)"
      ]
    },
    {
      "cell_type": "markdown",
      "metadata": {
        "id": "BAaBqwwZmbVX"
      },
      "source": [
        "***\n",
        "## Logistic Ridge Regression (LRR)\n",
        "----\n",
        "\n",
        "Given $X \\in \\mathbb{R}^{n \\times p}$ and $y \\in \\{-1,+1\\}^n$, solve\n",
        "$$\n",
        "\\min_{\\beta \\in \\mathbb{R}^p} \\frac{1}{n} \\sum_{i=1}^n \\log (1+e^{-y_i \\beta^\\top x_i}) + \\lambda \\|\\beta\\|^2 \\,.\n",
        "$$"
      ]
    },
    {
      "cell_type": "markdown",
      "metadata": {
        "id": "23CbGUUombVY"
      },
      "source": [
        "Let $\\sigma(x) = \\frac{1}{1 + e^{-x}}$ be the sigmoid function.\n",
        "\n",
        "**Exercise:** Compute $\\sigma'(x)$"
      ]
    },
    {
      "cell_type": "markdown",
      "metadata": {
        "id": "TJvA4tAGmbVY"
      },
      "source": [
        "Rewriting $J$:\n",
        "$$\n",
        "J(\\beta) = - \\frac{1}{n} \\sum_{i=1}^n {\\log(\\sigma(y_i\\beta^\\top x_i))} + \\lambda \\|\\beta\\|^2 \\,.\n",
        "$$\n",
        "\n",
        "**Exercise:** Compute its gradient $\\nabla J$, and its Hessian $\\nabla^2 J$\n",
        "$$$$"
      ]
    },
    {
      "cell_type": "markdown",
      "metadata": {
        "id": "cKfgAA4YmbVZ"
      },
      "source": [
        "### Gradient descent\n",
        "\n",
        "- Initialize $\\beta^{old} = \\beta_0$\n",
        "- Repeat until convergence: $$\n",
        "\\beta^{new} \\leftarrow \\beta^{old} - h \\nabla J(\\beta^{old})\n",
        "$$\n",
        "where $h$ is the step size (learning rate)\n",
        "\n",
        "Under some conditions on $J$ (for example $J$ is strongly convex), and with an appropriate step-size $h$, this algorithm converges to a point $\\beta^*$ such that $\\nabla J(\\beta^*) = 0$  "
      ]
    },
    {
      "cell_type": "markdown",
      "metadata": {
        "id": "LsWMJlGGmbVZ"
      },
      "source": [
        "### Implementation of Logistic Ridge Regression with Gradient Descent\n",
        "---"
      ]
    },
    {
      "cell_type": "code",
      "source": [
        "# def Sigmoid(x):\n",
        "#   return 1/(np.exp(-x))"
      ],
      "metadata": {
        "id": "f0ck1t439LS8"
      },
      "execution_count": null,
      "outputs": []
    },
    {
      "cell_type": "code",
      "source": [
        "# Logistic Ridge Regression (LRR) with gradient descent (GD)\n",
        "def solveLRR_gradient(y, X, lam, h=0.01, max_iter=500, eps=1e-12):\n",
        "    '''\n",
        "    lam: Regularization parameter\n",
        "    max_iter: Max number of iterations of gradient descent\n",
        "    eps: Tolerance for stopping criteria \n",
        "    '''\n",
        "    n, p = X.shape\n",
        "    assert (len(y) == n)\n",
        "\n",
        "    beta_old = np.zeros(p)\n",
        "\n",
        "    def sigmoid(x):\n",
        "            return 1 / (1 + np.exp(-x))\n",
        "\n",
        "    for i in range(max_iter):\n",
        "            # yi beta^T xi\n",
        "            f = (X * y[:, None]).dot(beta_old)\n",
        "            gradient = - 1 / n * (y * sigmoid(-f)).dot(X)\n",
        "            gradient += 2 * lam * beta_old\n",
        "\n",
        "    # Step\n",
        "            beta_new = beta_old - h * gradient\n",
        "\n",
        "            if np.sum((beta_new-beta_old)**2) < eps:\n",
        "              break\n",
        "            beta_old = beta_new\n",
        "                #         \n",
        "    return (beta_new)"
      ],
      "metadata": {
        "id": "HuykzlehF26A"
      },
      "execution_count": null,
      "outputs": []
    },
    {
      "cell_type": "code",
      "execution_count": null,
      "metadata": {
        "id": "FXQ9sjKcmbVZ"
      },
      "outputs": [],
      "source": [
        "# # Logistic Ridge Regression (LRR) with gradient descent (GD)\n",
        "# def solveLRR_gradient(y, X, lam,h=0.001, max_iter=500, eps=1e-3):\n",
        "#     '''\n",
        "#     lam: Regularization parameter\n",
        "#     max_iter: Max number of iterations of gradient descent\n",
        "#     eps: Tolerance for stopping criteria \n",
        "#     '''\n",
        "#     n, p = X.shape\n",
        "#     beta_0 = np.zeros(p)\n",
        "#     assert (len(y) == n)\n",
        "    \n",
        "            \n",
        "#     for i in range(max_iter):\n",
        "\n",
        "#       grad = - (1/n)*(y*Sigmoid(-(y[:,None]*beta_0.T@X)))@X \n",
        "#       grad += 2*lam*beta_0.T\n",
        "#       beta_new = beta_0 - h*grad\n",
        "\n",
        "#       if np.sum((beta_new-beta_old))\n",
        "\n",
        "    \n",
        "#     #     ...\n",
        "#     #         \n",
        "#     return (beta)"
      ]
    },
    {
      "cell_type": "code",
      "source": [
        "# # Logistic Ridge Regression (LRR) with gradient descent (GD)\n",
        "# def solveLRR_gradient(y, X, lam, h = 0.001, max_iter=500, eps=1e-9):\n",
        "#     '''\n",
        "#     lam: Regularization parameter\n",
        "#     max_iter: Max number of iterations of gradient descent\n",
        "#     eps: Tolerance for stopping criteria \n",
        "#     '''\n",
        "#     n, p = X.shape\n",
        "#     assert (len(y) == n)\n",
        "    \n",
        "    \n",
        "            \n",
        "#     # for i in range(max_iter):\n",
        "#     #     ...\n",
        "#     #       \n",
        "#     print(X.shape)\n",
        "#     beta_old = np.zeros(p)\n",
        "#     for i in range(max_iter):\n",
        "#         f = (X* y[:, None]).dot(beta_old)\n",
        "#         gradient = -1/n *(y*Sigmoid(-f)).dot(X)\n",
        "#         gradient += 2 * lam * beta_old\n",
        "        \n",
        "#         #step\n",
        "#         beta_new = beta_old - h * gradient\n",
        "#         if np.sum((beta_new-beta_old)**2) < eps:\n",
        "#             break\n",
        "#         beta_old  = beta_new\n",
        "#     return (beta_new)"
      ],
      "metadata": {
        "id": "YcNSjCDQEi3L"
      },
      "execution_count": null,
      "outputs": []
    },
    {
      "cell_type": "markdown",
      "metadata": {
        "id": "YpKjnVdGmbVZ"
      },
      "source": [
        "**Try it out:**"
      ]
    },
    {
      "cell_type": "code",
      "execution_count": null,
      "metadata": {
        "id": "yaGD6yl7mbVa",
        "colab": {
          "base_uri": "https://localhost:8080/"
        },
        "outputId": "96dfe006-33d4-49ad-d4dd-b95f6fca418c"
      },
      "outputs": [
        {
          "output_type": "stream",
          "name": "stdout",
          "text": [
            "\n",
            "Our solver:\n",
            "[ 0.43  0.25 -0.07 -0.14  0.23  0.13  0.29  0.27  0.26 -0.35]\n",
            "Scikit-learn:\n",
            "[[ 0.5   0.32 -0.09 -0.17  0.27  0.15  0.36  0.32  0.3  -0.39]]\n",
            "\n",
            "Difference between the two:\n",
            "2.2e-02\n",
            "        \n"
          ]
        }
      ],
      "source": [
        "y_bin = np.sign(y) # Binarize targets\n",
        "lam = 0.1\n",
        "\n",
        "# Our solver\n",
        "beta_gradient = solveLRR_gradient(y_bin, X, lam)\n",
        "\n",
        "# Python solver\n",
        "alpha = 2 * lam * X.shape[0]\n",
        "model = lm.LogisticRegression(C=1/alpha, fit_intercept=False)\n",
        "beta_sklearn = model.fit(X, y_bin).coef_\n",
        "\n",
        "# Check\n",
        "compare(beta_gradient, beta_sklearn)"
      ]
    },
    {
      "cell_type": "markdown",
      "metadata": {
        "id": "cL8MO67GmbVa"
      },
      "source": [
        "### Solving for optimal $\\beta$ using Newton-Raphson\n",
        "$$\n",
        "\\beta^{new} \\leftarrow \\beta^{old} - \\left(\\nabla^2 J(\\beta^{old})\\right)^{-1} \\nabla J(\\beta^{old})\n",
        "$$\n",
        "\n",
        "Show that each step is equivalent to solving a weighted ridge regression (WRR)\n"
      ]
    },
    {
      "cell_type": "markdown",
      "metadata": {
        "id": "B_tsxqYVmbVa"
      },
      "source": [
        "<font color='green'>Quadratic approximation to $J$</font>:\n",
        "\n",
        "$$\n",
        "J(\\beta) \\approx J_q(\\beta) = J(\\beta^{old}) + (\\beta - \\beta^{old})^\\top \\nabla J(\\beta^{old}) + \\frac{1}{2} (\\beta - \\beta^{old})^\\top \\nabla^2 J(\\beta^{old}) (\\beta - \\beta^{old})\n",
        "$$\n",
        "\n",
        "- **Step 1**: Show that $$\\min_\\beta J_q(\\beta) = \\beta^{new}$$\n"
      ]
    },
    {
      "cell_type": "markdown",
      "metadata": {
        "id": "HWgsSESZmbVb"
      },
      "source": [
        "- **Step 2**: Show that $J_q$ is a WRR objective -- find $W$, $z$ such that:\n",
        "<font color='green'>\n",
        "$$\n",
        "2J_q(\\beta) = (z - X\\beta)^\\top W (z - X\\beta) + 2\\lambda \\|\\beta\\|^2 + \\mathrm{C}\n",
        "$$\n",
        "</font>"
      ]
    },
    {
      "cell_type": "markdown",
      "metadata": {
        "id": "g4YPLlXjmbVb"
      },
      "source": [
        "### Implementation of Logistic Ridge Regression with Newton-Raphson method\n",
        "---"
      ]
    },
    {
      "cell_type": "code",
      "execution_count": null,
      "metadata": {
        "id": "u_B_FEQAmbVb"
      },
      "outputs": [],
      "source": [
        "# Logistic Ridge Regression with Newton-Raphson\n",
        "def solveLRR_newton(y, X, lam, max_iter=500, eps=1e-3):\n",
        "    '''\n",
        "    lam: Regularization parameter\n",
        "    max_iter: Max number of iterations of gradient descent\n",
        "    eps: Tolerance for stopping criteria\n",
        "    '''\n",
        "    n, p = X.shape\n",
        "    assert (len(y) == n)\n",
        "            \n",
        "    # Hint: Use IRLS\n",
        "    # for i in range(max_iter):\n",
        "    #     ...\n",
        "    #     beta = solveWRR(z, X, w, 2*lam)    \n",
        "    return (beta)"
      ]
    },
    {
      "cell_type": "code",
      "source": [
        "# # Logistic Ridge Regression with Newton-Raphson\n",
        "# def solveLRR_newton(y, X, lam, max_iter=500, eps=1e-3):\n",
        "#     n, p = X.shape\n",
        "#     assert (len(y) == n)\n",
        "\n",
        "# # Parameters\n",
        "#     max_iter = 500\n",
        "#     eps = 1e-3\n",
        "#     sigmoid = lambda a: 1/(1 + np.exp(-a))\n",
        "\n",
        "# # Initialize\n",
        "#     beta = np.zeros(p)\n",
        "\n",
        "# # Hint: Use IRLS\n",
        "#     for i in range(max_iter):\n",
        "#         beta_old = beta\n",
        "#         f = X.dot(beta_old)\n",
        "#         w = sigmoid(f) * sigmoid(-f)\n",
        "#         z = f + y / sigmoid(yf)\n",
        "#         beta = solveWRR(z, X, w, 2lam)\n",
        "#         # Break condition (achieved convergence)\n",
        "#         if np.sum((beta-beta_old)**2) < eps:\n",
        "#             break\n",
        "#     return (beta)"
      ],
      "metadata": {
        "colab": {
          "base_uri": "https://localhost:8080/",
          "height": 152
        },
        "id": "r3o024ILGwUA",
        "outputId": "a40eb337-9949-4984-a1b8-b72d1abba8be"
      },
      "execution_count": null,
      "outputs": [
        {
          "output_type": "error",
          "ename": "SyntaxError",
          "evalue": "ignored",
          "traceback": [
            "\u001b[0;36m  File \u001b[0;32m\"<ipython-input-112-cf2705040494>\"\u001b[0;36m, line \u001b[0;32m20\u001b[0m\n\u001b[0;31m    beta = solveWRR(z, X, w, 2lam)\u001b[0m\n\u001b[0m                                ^\u001b[0m\n\u001b[0;31mSyntaxError\u001b[0m\u001b[0;31m:\u001b[0m invalid syntax\n"
          ]
        }
      ]
    },
    {
      "cell_type": "markdown",
      "metadata": {
        "id": "G0ZyOF_wmbVb"
      },
      "source": [
        "#### Evaluation"
      ]
    },
    {
      "cell_type": "code",
      "execution_count": null,
      "metadata": {
        "id": "iliBekwymbVb"
      },
      "outputs": [],
      "source": [
        "# Our solver\n",
        "beta_newton = solveLRR_newton(y_bin, X, lam)\n",
        "\n",
        "compare(beta_newton, beta_sklearn)"
      ]
    },
    {
      "cell_type": "markdown",
      "metadata": {
        "id": "3xMMAI7VmbVc"
      },
      "source": [
        "***\n",
        "### Mini Data Challenge\n",
        "\n",
        "We will try to predict whether patients have breast cancer.\n",
        "\n",
        "We use scikit-learn's [breast cancer dataset](https://scikit-learn.org/stable/datasets/index.html#breast-cancer-dataset)\n",
        "\n",
        "30 features, 569 samples, 2 labels ('malignant' or 'benign')"
      ]
    },
    {
      "cell_type": "code",
      "execution_count": null,
      "metadata": {
        "id": "aIkRPJpWmbVc",
        "colab": {
          "base_uri": "https://localhost:8080/"
        },
        "outputId": "27e044cd-7b03-4995-caff-b45bc43e3eaa"
      },
      "outputs": [
        {
          "output_type": "execute_result",
          "data": {
            "text/plain": [
              "(569, 30)"
            ]
          },
          "metadata": {},
          "execution_count": 113
        }
      ],
      "source": [
        "# Load data and split into training / validation sets\n",
        "from sklearn.datasets import load_breast_cancer\n",
        "from sklearn.model_selection import train_test_split\n",
        "\n",
        "# X, y = load_breast_cancer(return_X_y=True)\n",
        "data = load_breast_cancer()\n",
        "X, y = data['data'], data['target']\n",
        "y = 2*y - 1 # transform from {0, 1} to {-1, 1}\n",
        "\n",
        "# Hint: Scaling can be important\n",
        "X = sklearn.preprocessing.scale(X)\n",
        "\n",
        "# Split the dataset into training set and test set\n",
        "X_train, X_test, y_train, y_test = train_test_split(\n",
        "    X, y, test_size=0.33, random_state=42)\n",
        "X.shape"
      ]
    },
    {
      "cell_type": "code",
      "execution_count": null,
      "metadata": {
        "id": "7QZB_IJKmbVc",
        "colab": {
          "base_uri": "https://localhost:8080/"
        },
        "outputId": "1a30de78-1565-4cec-dd5a-a9416e8365f7"
      },
      "outputs": [
        {
          "output_type": "execute_result",
          "data": {
            "text/plain": [
              "((30,), (188, 30), (569,))"
            ]
          },
          "metadata": {},
          "execution_count": 134
        }
      ],
      "source": [
        "# Fit our model and compute its parameters\n",
        "lam = 0.01\n",
        "#beta = solveLRR_newton(y_train, X_train, lam)\n",
        "beta = solveLRR_gradient(y_train, X_train, lam)\n",
        "beta.shape,X_test.shape,y.shape"
      ]
    },
    {
      "cell_type": "code",
      "execution_count": null,
      "metadata": {
        "id": "ULggrgxwmbVc"
      },
      "outputs": [],
      "source": [
        "# Compute predicted probabilities and classes\n",
        "# probas_pred = ?\n",
        "# y_pred = ?\n",
        "probas_pred = Sigmoid(beta.T@X_test.T)\n",
        "y_pred = (probas_pred>0.5)\n",
        "y_pred = 2*y_pred -1\n"
      ]
    },
    {
      "cell_type": "markdown",
      "metadata": {
        "id": "357GEbrdmbVc"
      },
      "source": [
        "#### Performance evaluation\n",
        "---"
      ]
    },
    {
      "cell_type": "code",
      "execution_count": null,
      "metadata": {
        "id": "dRjbcLG3mbVc",
        "colab": {
          "base_uri": "https://localhost:8080/"
        },
        "outputId": "68ec1923-fc60-4c42-897c-4e585b40d6ea"
      },
      "outputs": [
        {
          "output_type": "stream",
          "name": "stdout",
          "text": [
            "Our model's performance:\n",
            "Accuracy: 95.74%\n",
            "AUC: 99.78%\n"
          ]
        }
      ],
      "source": [
        "from sklearn.metrics import accuracy_score, roc_auc_score\n",
        "\n",
        "print(\"Our model's performance:\")\n",
        "print('Accuracy: {:.2%}'.format(accuracy_score(y_test, y_pred)))\n",
        "print('AUC: {:.2%}'.format(roc_auc_score(y_test, probas_pred)))"
      ]
    },
    {
      "cell_type": "code",
      "execution_count": null,
      "metadata": {
        "id": "wuj74SAEmbVc",
        "colab": {
          "base_uri": "https://localhost:8080/"
        },
        "outputId": "ee64c487-2005-433b-c928-c104812e83e1"
      },
      "outputs": [
        {
          "output_type": "stream",
          "name": "stdout",
          "text": [
            "              precision    recall  f1-score   support\n",
            "\n",
            "          -1       0.98      0.90      0.94        67\n",
            "           1       0.94      0.99      0.97       121\n",
            "\n",
            "    accuracy                           0.96       188\n",
            "   macro avg       0.96      0.94      0.95       188\n",
            "weighted avg       0.96      0.96      0.96       188\n",
            "\n"
          ]
        }
      ],
      "source": [
        "from sklearn.metrics import classification_report\n",
        "\n",
        "print(classification_report(y_test, y_pred))"
      ]
    },
    {
      "cell_type": "markdown",
      "metadata": {
        "id": "PZMAGQfambVd"
      },
      "source": [
        "#### Plotting the feature importances\n",
        "---"
      ]
    },
    {
      "cell_type": "code",
      "execution_count": null,
      "metadata": {
        "id": "p0_YnBeLmbVd",
        "colab": {
          "base_uri": "https://localhost:8080/",
          "height": 356
        },
        "outputId": "250c64cc-7d1b-4d38-e7b0-038a1f210438"
      },
      "outputs": [
        {
          "output_type": "display_data",
          "data": {
            "text/plain": [
              "<Figure size 432x288 with 1 Axes>"
            ],
            "image/png": "[encoded data removed]"
          },
          "metadata": {
            "needs_background": "light"
          }
        }
      ],
      "source": [
        "import matplotlib.pyplot as plt\n",
        "fig = plt.figure()\n",
        "ax = fig.add_axes([0, 0, 1, 1])\n",
        "features = data['feature_names']\n",
        "ax.barh(features, beta)\n",
        "plt.show()"
      ]
    }
  ],
  "metadata": {
    "kernelspec": {
      "display_name": "Python 3 (ipykernel)",
      "language": "python",
      "name": "python3"
    },
    "language_info": {
      "codemirror_mode": {
        "name": "ipython",
        "version": 3
      },
      "file_extension": ".py",
      "mimetype": "text/x-python",
      "name": "python",
      "nbconvert_exporter": "python",
      "pygments_lexer": "ipython3",
      "version": "3.7.6"
    },
    "colab": {
      "name": "Kernel Methods Practical Session 2.ipynb",
      "provenance": [],
      "include_colab_link": true
    },
    "accelerator": "GPU",
    "gpuClass": "standard"
  },
  "nbformat": 4,
  "nbformat_minor": 0
}