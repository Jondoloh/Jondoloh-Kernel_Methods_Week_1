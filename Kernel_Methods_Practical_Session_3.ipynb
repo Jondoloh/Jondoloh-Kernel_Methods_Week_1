{
  "cells": [
    {
      "cell_type": "markdown",
      "metadata": {
        "id": "view-in-github",
        "colab_type": "text"
      },
      "source": [
        "<a href=\"https://colab.research.google.com/github/Jondoloh/Jondoloh-Kernel_Methods_Week_1/blob/main/Kernel_Methods_Practical_Session_3.ipynb\" target=\"_parent\"><img src=\"https://colab.research.google.com/assets/colab-badge.svg\" alt=\"Open In Colab\"/></a>"
      ]
    },
    {
      "cell_type": "markdown",
      "metadata": {
        "id": "kTMUsYkWutAT"
      },
      "source": [
        "# Practical Session 3\n",
        "## Kernel Methods for Machine Learning"
      ]
    },
    {
      "cell_type": "markdown",
      "metadata": {
        "id": "b4r1a7pWutAV"
      },
      "source": [
        "Written by Yunlong Jiao / Romain Menegaux, 20 May 2020"
      ]
    },
    {
      "cell_type": "markdown",
      "metadata": {
        "id": "ei-toKNlutAW"
      },
      "source": [
        "\n",
        "* [Part I - Basics](#part1)\n",
        "    1. [Generating data](#generating-data)\n",
        "    2. [SVM scikit-learn implementation](#scikit-implementation)\n",
        "    3. [Plotting the results](#plotting-margins)\n",
        "* [Part II - Tuning C](#part2)\n",
        "    1. [Choosing C by cross-validation](#cross-validation)\n",
        "    2. [Influence of C on performance](#best-C)\n",
        "    3. [Interactive Plot](#interactive-plot)\n",
        "* [Part III - Custom Implementation using Quadratic Programming](#part3)\n",
        "    1. [Hard Margin](#hard-margin)\n",
        "       * [Primal](#hard-margin-primal)\n",
        "       * [Dual](#hard-margin-dual)\n",
        "       * [Getting w and b from dual solution](#primal-from-dual-hard)\n",
        "       * [Non separable data](#non-separable)\n",
        "    2. [Soft Margin](#soft-margin)\n",
        "       * [Primal](#soft-margin-primal)\n",
        "       * [Dual](#soft-margin-dual)"
      ]
    },
    {
      "cell_type": "code",
      "execution_count": null,
      "metadata": {
        "id": "GKm-t62MutAY"
      },
      "outputs": [],
      "source": [
        "# setup\n",
        "import numpy as np\n",
        "from matplotlib import pyplot as plt\n",
        "%matplotlib inline"
      ]
    },
    {
      "cell_type": "code",
      "execution_count": null,
      "metadata": {
        "id": "bRl60fZAutAZ",
        "colab": {
          "base_uri": "https://localhost:8080/"
        },
        "outputId": "aba75a1d-d530-403b-cd4c-1cf5c771c30c"
      },
      "outputs": [
        {
          "output_type": "stream",
          "name": "stdout",
          "text": [
            "3.7.13 (default, Apr 24 2022, 01:04:09) \n",
            "[GCC 7.5.0]\n"
          ]
        }
      ],
      "source": [
        "import sys\n",
        "print(sys.version)\n",
        "\n",
        "import warnings\n",
        "warnings.filterwarnings('ignore')"
      ]
    },
    {
      "cell_type": "code",
      "execution_count": null,
      "metadata": {
        "id": "MllnEMzSutAZ",
        "colab": {
          "base_uri": "https://localhost:8080/",
          "height": 57
        },
        "outputId": "72c552e8-52bb-4330-cb19-507fa8f57135"
      },
      "outputs": [
        {
          "output_type": "execute_result",
          "data": {
            "text/plain": [
              "'1.0.2'"
            ],
            "application/vnd.google.colaboratory.intrinsic+json": {
              "type": "string"
            }
          },
          "metadata": {},
          "execution_count": 3
        }
      ],
      "source": [
        "import sklearn\n",
        "sklearn.__version__"
      ]
    },
    {
      "cell_type": "code",
      "execution_count": null,
      "metadata": {
        "scrolled": true,
        "id": "yCHbEeETutAa",
        "colab": {
          "base_uri": "https://localhost:8080/"
        },
        "outputId": "9b779b07-b6d0-4b55-e438-6cdaec9b9a22"
      },
      "outputs": [
        {
          "output_type": "stream",
          "name": "stdout",
          "text": [
            "Using solver `cvxopt`\n"
          ]
        }
      ],
      "source": [
        "import sys\n",
        "\n",
        "solver='cvxopt'\n",
        "# solver = 'quadprog'\n",
        "\n",
        "if solver == 'cvxopt':\n",
        "    try:\n",
        "        import cvxopt\n",
        "    except:\n",
        "        try:\n",
        "            # If conda install fails for you, try pip install:\n",
        "            # !{sys.executable} -m pip install cvxopt\n",
        "            !conda install --yes --prefix {sys.prefix} cvxopt\n",
        "            import cvxopt\n",
        "        except:\n",
        "            raise ImportError('Could not import or conda install cvxopt. You could try installing with pip. Or try solver=quadprog')\n",
        "\n",
        "if solver == 'quadprog':\n",
        "    try:\n",
        "        import quadprog\n",
        "    except:\n",
        "        try:\n",
        "            !conda install --yes --prefix {sys.prefix} -c omnia quadprog\n",
        "            # If conda install fails for you, try pip install:\n",
        "            # !{sys.executable} -m pip install quadprog\n",
        "            import quadprog\n",
        "        except:\n",
        "            raise ImportError('Could not import or conda install quadprog. You could try installing with pip. Or try solver=cvxopt')\n",
        "            \n",
        "print('Using solver `{}`'.format(solver))"
      ]
    },
    {
      "cell_type": "markdown",
      "metadata": {
        "id": "27p1CBseutAa"
      },
      "source": [
        "***\n",
        "## Part I - Basics <a name=\"part1\"></a>"
      ]
    },
    {
      "cell_type": "markdown",
      "metadata": {
        "id": "i0bMXddqutAb"
      },
      "source": [
        "### Generating data <a name=\"generating-data\"></a> \n",
        "- **Generate 20 binary classification samples** (10 from each class $y = 1$ and $y = −1$).\n",
        "\n",
        "Use $\\mathbf{x} \\in \\mathbb{R}^2$, for visualization purpose, where each element $x \\sim \\mathcal{N}(\\mu_y,\\sigma^2), \\mu_1 = 0, \\mu_{-1}=1$.\n",
        "\n",
        "- **Generate 1000 separate testing samples from the same distribution**\n",
        "- **Visualize training data.**"
      ]
    },
    {
      "cell_type": "code",
      "execution_count": null,
      "metadata": {
        "id": "eCDiy4hxutAb"
      },
      "outputs": [],
      "source": [
        "# Simulate data\n",
        "np.random.seed(54321)\n",
        "p = 2\n",
        "\n",
        "def generate_Xy(n_samples, p=2, sigma=.2):\n",
        "\n",
        "   # X of shape (n_samples, p)\n",
        "   X = np.random.randn(n_samples,p)*sigma\n",
        "   X[n_samples//2:] +=1\n",
        "\n",
        "   # y vector of length n_samples\n",
        "   y = np.ones(n_samples)\n",
        "   y[n_samples//2:] =-1\n",
        "  \n",
        "   return X, y\n",
        "\n",
        "# Training data\n",
        "X_train, y_train = generate_Xy(20)\n",
        "\n",
        "# Testing data\n",
        "X_test, y_test = generate_Xy(1000)"
      ]
    },
    {
      "cell_type": "code",
      "source": [
        "#X_train"
      ],
      "metadata": {
        "id": "8A86OQM9za4z"
      },
      "execution_count": null,
      "outputs": []
    },
    {
      "cell_type": "code",
      "source": [
        "y_train"
      ],
      "metadata": {
        "colab": {
          "base_uri": "https://localhost:8080/"
        },
        "id": "5Tf9pRKTzeTZ",
        "outputId": "24e703db-d8ab-4fd7-b906-76e3b18d56c4"
      },
      "execution_count": null,
      "outputs": [
        {
          "output_type": "execute_result",
          "data": {
            "text/plain": [
              "array([ 1.,  1.,  1.,  1.,  1.,  1.,  1.,  1.,  1.,  1., -1., -1., -1.,\n",
              "       -1., -1., -1., -1., -1., -1., -1.])"
            ]
          },
          "metadata": {},
          "execution_count": 7
        }
      ]
    },
    {
      "cell_type": "code",
      "execution_count": null,
      "metadata": {
        "id": "Wg7Y9s2jutAc",
        "colab": {
          "base_uri": "https://localhost:8080/",
          "height": 480
        },
        "outputId": "f3d7b099-f7f6-4481-9a9f-bbe8d6a2628d"
      },
      "outputs": [
        {
          "output_type": "display_data",
          "data": {
            "text/plain": [
              "<Figure size 576x504 with 1 Axes>"
            ],
            "image/png": "[encoded data removed]"
          },
          "metadata": {
            "needs_background": "light"
          }
        }
      ],
      "source": [
        "# Visualize training data\n",
        "def plot_data(X, y, title=''):\n",
        "    plt.figure(figsize=(8,7))\n",
        "    plt.title(title)\n",
        "    # use plt.scatter to plot data\n",
        "    plt.scatter(X[:,0],X[:,1],c=y)\n",
        "    plt.xlabel('$x_1$')\n",
        "    plt.ylabel('$x_2$')\n",
        "    plt.show()\n",
        "    \n",
        "plot_data(X_train, y_train, title='Training data')"
      ]
    },
    {
      "cell_type": "code",
      "execution_count": null,
      "metadata": {
        "id": "rMehUdXFutAc",
        "colab": {
          "base_uri": "https://localhost:8080/",
          "height": 480
        },
        "outputId": "ae4ce1d9-d1a3-485c-fe97-1d9f712d8a71"
      },
      "outputs": [
        {
          "output_type": "display_data",
          "data": {
            "text/plain": [
              "<Figure size 576x504 with 1 Axes>"
            ],
            "image/png": "[encoded data removed]"
          },
          "metadata": {
            "needs_background": "light"
          }
        }
      ],
      "source": [
        "plot_data(X_test, y_test, title='Test data')"
      ]
    },
    {
      "cell_type": "markdown",
      "metadata": {
        "id": "uqVTG-5XutAc"
      },
      "source": [
        "## SVM scikit-learn implementation <a name=\"scikit-implementation\"></a>\n",
        "**Train a linear SVM** with parameter $C = 10$ on the training set, using the function `sklearn.svm.LinearSVC`. Inspect the resulting object"
      ]
    },
    {
      "cell_type": "code",
      "execution_count": null,
      "metadata": {
        "id": "mTW9g5LhutAd",
        "colab": {
          "base_uri": "https://localhost:8080/"
        },
        "outputId": "3e22793d-a7e1-412c-b2c1-5d3db98a1a96"
      },
      "outputs": [
        {
          "output_type": "execute_result",
          "data": {
            "text/plain": [
              "{'C': 10,\n",
              " 'class_weight': None,\n",
              " 'classes_': array([-1.,  1.]),\n",
              " 'coef_': array([[-1.233112  , -1.12133398]]),\n",
              " 'dual': True,\n",
              " 'fit_intercept': True,\n",
              " 'intercept_': array([1.20639503]),\n",
              " 'intercept_scaling': 1,\n",
              " 'loss': 'squared_hinge',\n",
              " 'max_iter': 1000,\n",
              " 'multi_class': 'ovr',\n",
              " 'n_features_in_': 2,\n",
              " 'n_iter_': 111,\n",
              " 'penalty': 'l2',\n",
              " 'random_state': None,\n",
              " 'tol': 0.0001,\n",
              " 'verbose': 0}"
            ]
          },
          "metadata": {},
          "execution_count": 10
        }
      ],
      "source": [
        "from sklearn.svm import LinearSVC\n",
        "\n",
        "# Parameters\n",
        "C = 10\n",
        "\n",
        "# Create the model\n",
        "clf =LinearSVC(C=C)\n",
        "# Train the model\n",
        "clf.fit(X_train, y_train)\n",
        "clf.__dict__"
      ]
    },
    {
      "cell_type": "code",
      "execution_count": null,
      "metadata": {
        "id": "DU8cISioutAd"
      },
      "outputs": [],
      "source": [
        "# Prediction error\n",
        "def error(y_pred, y_true):\n",
        "    e = (y_pred != y_true).mean()\n",
        "    return e"
      ]
    },
    {
      "cell_type": "code",
      "execution_count": null,
      "metadata": {
        "id": "gJ3T60XEutAe",
        "colab": {
          "base_uri": "https://localhost:8080/"
        },
        "outputId": "820df5b2-7b19-43f4-be29-1e0937496ca4"
      },
      "outputs": [
        {
          "output_type": "stream",
          "name": "stdout",
          "text": [
            "Model parameters:\n",
            "w: [-1.233112   -1.12133398]\n",
            "b: 1.2063950304083337\n"
          ]
        }
      ],
      "source": [
        "w = clf.coef_[0]\n",
        "b = clf.intercept_[0]\n",
        "print('Model parameters:')\n",
        "print('w: {}'.format(w))\n",
        "print('b: {}'.format(b))"
      ]
    },
    {
      "cell_type": "code",
      "execution_count": null,
      "metadata": {
        "scrolled": true,
        "id": "YDJr5Lp7utAe",
        "colab": {
          "base_uri": "https://localhost:8080/"
        },
        "outputId": "f26c89e8-e0c9-4f67-932f-06d5fe8bd419"
      },
      "outputs": [
        {
          "output_type": "stream",
          "name": "stdout",
          "text": [
            "Training error = 0.0%\n",
            "Testing error = 0.0%\n"
          ]
        }
      ],
      "source": [
        "# Training error\n",
        "y_fit = clf.predict(X_train)\n",
        "err_train = error(y_fit, y_train)\n",
        "print('Training error = {:.1%}'.format(err_train))\n",
        "\n",
        "# Testing error\n",
        "y_pred = clf.predict(X_test)\n",
        "err_test = error(y_pred, y_test)\n",
        "print('Testing error = {:.1%}'.format(err_test))"
      ]
    },
    {
      "cell_type": "markdown",
      "metadata": {
        "id": "JVhaUsK4utAf"
      },
      "source": [
        "#### Reminder\n",
        "\n",
        "SVM as a model:\n",
        "$\\hat{y} = sign(w^\\top x + b)$\n",
        "\n",
        "Goal: find the best possible $w$ and $b$\n",
        "$$$$"
      ]
    },
    {
      "cell_type": "markdown",
      "metadata": {
        "id": "TNDPB1DDutAf"
      },
      "source": [
        "**Our implementation of `clf.predict`**:"
      ]
    },
    {
      "cell_type": "code",
      "source": [
        "w.shape,X_train.shape"
      ],
      "metadata": {
        "colab": {
          "base_uri": "https://localhost:8080/"
        },
        "id": "9wHOf0AO21M9",
        "outputId": "cdef05e7-c29d-44f0-feec-379410c78094"
      },
      "execution_count": null,
      "outputs": [
        {
          "output_type": "execute_result",
          "data": {
            "text/plain": [
              "((2,), (20, 2))"
            ]
          },
          "metadata": {},
          "execution_count": 14
        }
      ]
    },
    {
      "cell_type": "code",
      "execution_count": null,
      "metadata": {
        "id": "vFMS3PokutAg",
        "colab": {
          "base_uri": "https://localhost:8080/"
        },
        "outputId": "b7a4c153-46dc-4a94-cd33-aa9acd0e2ab4"
      },
      "outputs": [
        {
          "output_type": "stream",
          "name": "stdout",
          "text": [
            "Training error = 0.0%\n"
          ]
        }
      ],
      "source": [
        "# What clf.predict does under the hood:\n",
        "y_fit = np.sign(w@X_train.T + b)\n",
        "err_train = error(y_fit, y_train)\n",
        "print('Training error = {:.1%}'.format(err_train))"
      ]
    },
    {
      "cell_type": "markdown",
      "metadata": {
        "id": "lQ7TM9GgutAg"
      },
      "source": [
        "**Why is the error so low?**:"
      ]
    },
    {
      "cell_type": "markdown",
      "metadata": {
        "id": "9SDWYAkQutAh"
      },
      "source": [
        "***\n",
        "### Plot the points and the decision boundaries of a linear SVM <a name=\"plotting-margins\"></a>\n",
        "Recall: \n",
        "the boundary (separating hyperplane) is the set of points for which $f(x) = w^T x + b = 0$."
      ]
    },
    {
      "cell_type": "code",
      "execution_count": null,
      "metadata": {
        "scrolled": false,
        "id": "wKK1WN0futAh",
        "colab": {
          "base_uri": "https://localhost:8080/",
          "height": 464
        },
        "outputId": "ea8073c8-591c-4460-c8c8-f9ae50aebe92"
      },
      "outputs": [
        {
          "output_type": "display_data",
          "data": {
            "text/plain": [
              "<Figure size 576x504 with 1 Axes>"
            ],
            "image/png": "[encoded data removed]"
          },
          "metadata": {
            "needs_background": "light"
          }
        }
      ],
      "source": [
        "# Visualize training data and separating hyperplane\n",
        "def compute_margins(b, w1, w2, x1):\n",
        "    '''\n",
        "    returns x2, x2_up, x2_low such that:\n",
        "        - f(x2) = 0\n",
        "        - f(x2_up) = 1\n",
        "        - f(x2_low) = -1\n",
        "    '''\n",
        "    x2 = -(b+w1*x1)/w2\n",
        "    x2_up = (1-(b+w1*x1))/w2\n",
        "    x2_low = (-1-(b+w1*x1))/w2\n",
        "    \n",
        "    return x2, x2_up, x2_low\n",
        "\n",
        "def plot_points_with_margin(X, y, w, b):\n",
        "    plt.figure(figsize=(8,7))\n",
        "\n",
        "    # Training data\n",
        "    plt.scatter(X[:,0], X[:,1], c=y)\n",
        "    plt.xlabel('$x_1$')\n",
        "    plt.ylabel('$x_2$')\n",
        "\n",
        "    # Separating hyperplane and decision boundaries\n",
        "    x1 = np.linspace(X[:,0].min(), X[:,0].max(), 100)\n",
        "    w1, w2 = w\n",
        "    x2, x2_up, x2_low = compute_margins(b, w1, w2, x1)\n",
        "\n",
        "    plt.plot(x1, x2, 'b')\n",
        "    plt.plot(x1, x2_up, 'b--')\n",
        "    plt.plot(x1, x2_low, 'b--')\n",
        "\n",
        "    # Plot\n",
        "    plt.show()\n",
        "    \n",
        "w = clf.coef_[0]\n",
        "b = clf.intercept_[0]\n",
        "plot_points_with_margin(X_test, y_test, w, b)"
      ]
    },
    {
      "cell_type": "markdown",
      "metadata": {
        "id": "-Ai5-wWkutAi"
      },
      "source": [
        "## Part II - Tuning C <a name=\"part2\"></a>\n",
        "- Try different values of $C$, and visualize the effect of $C$ on the margin and number of support vectors.\n",
        "- Train a linear SVM with values of $C$ between $10^{−3}$ and $1$. Plot and analyze the training and testing classification errors as a function of $C$. Question: Why can't we overfit more?\n",
        "- Choose $C$ by cross-validation."
      ]
    },
    {
      "cell_type": "code",
      "execution_count": null,
      "metadata": {
        "id": "w1KjjYIgutAi",
        "colab": {
          "base_uri": "https://localhost:8080/",
          "height": 464
        },
        "outputId": "1a59b022-7c18-4645-d7a6-56df65515e43"
      },
      "outputs": [
        {
          "output_type": "display_data",
          "data": {
            "text/plain": [
              "<Figure size 576x504 with 1 Axes>"
            ],
            "image/png": "[encoded data removed]"
          },
          "metadata": {
            "needs_background": "light"
          }
        }
      ],
      "source": [
        "# Let's make the data less separable\n",
        "# Training data\n",
        "X_train2, y_train2 = generate_Xy(50, sigma=.5)\n",
        "# Testing data\n",
        "X_test2, y_test2 = generate_Xy(1000, sigma=.5)\n",
        "\n",
        "plot_data(X_train2, y_train2)"
      ]
    },
    {
      "cell_type": "markdown",
      "metadata": {
        "id": "DR7vnfqGutAi"
      },
      "source": [
        "### Choosing C by cross-validation <a name=\"cross-validation\"></a>\n",
        "\n",
        "Find the best $C$ using cross validation"
      ]
    },
    {
      "cell_type": "code",
      "execution_count": null,
      "metadata": {
        "id": "pirv9XQCutAj",
        "colab": {
          "base_uri": "https://localhost:8080/",
          "height": 535
        },
        "outputId": "cd8eeafb-9f49-4552-d05b-b8c3710150bb"
      },
      "outputs": [
        {
          "output_type": "stream",
          "name": "stdout",
          "text": [
            "Results with optimal C\n",
            "----------------------\n",
            "Training error = 10.0%\n",
            "Testing error = 12.2%\n"
          ]
        },
        {
          "output_type": "display_data",
          "data": {
            "text/plain": [
              "<Figure size 576x504 with 1 Axes>"
            ],
            "image/png": "[encoded data removed]"
          },
          "metadata": {
            "needs_background": "light"
          }
        }
      ],
      "source": [
        "from sklearn.model_selection import cross_val_score\n",
        "\n",
        "# Cross validation\n",
        "C_candidates = 10 ** np.linspace(-3, 2, 100) # Possible values of C we want to test\n",
        "score_candidates = np.zeros(len(C_candidates)) # Cross-validation scores for each of the Cs\n",
        "\n",
        "for i, C in enumerate(C_candidates):\n",
        "    clf = sklearn.svm.LinearSVC(penalty='l2',loss='hinge', C=C)\n",
        "    scores = cross_val_score(clf, X_train2, y_train2, cv=5, scoring='accuracy')\n",
        "    score_candidates[i] = scores.mean()\n",
        "    \n",
        "# Find the index of the best C:\n",
        "best_index = np.argmax(score_candidates)\n",
        "best_C = C_candidates[best_index]\n",
        "\n",
        "# Training with cross-validated C\n",
        "clf_best = sklearn.svm.LinearSVC(penalty='l2', loss='hinge', C=best_C)\n",
        "clf_best.fit(X_train2, y_train2)\n",
        "\n",
        "print('Results with optimal C')\n",
        "print('----------------------')\n",
        "# Training error\n",
        "y_fit = clf_best.predict(X_train2)\n",
        "err_train = error(y_fit, y_train2)\n",
        "print('Training error = {:.1%}'.format(err_train))\n",
        "\n",
        "# Testing error\n",
        "y_pred = clf_best.predict(X_test2)\n",
        "err_test = error(y_pred, y_test2)\n",
        "print('Testing error = {:.1%}'.format(err_test))\n",
        "\n",
        "plot_points_with_margin(X_train2, y_train2, clf_best.coef_[0], clf_best.intercept_[0])"
      ]
    },
    {
      "cell_type": "markdown",
      "metadata": {
        "id": "4tNOEOEjutAj"
      },
      "source": [
        "### Influence of $C$ on performance <a name=\"best-C\"></a>"
      ]
    },
    {
      "cell_type": "code",
      "execution_count": null,
      "metadata": {
        "id": "HOnqSlEYutAk",
        "colab": {
          "base_uri": "https://localhost:8080/",
          "height": 304
        },
        "outputId": "147af9ea-ad66-41a0-94ff-65656d895087"
      },
      "outputs": [
        {
          "output_type": "display_data",
          "data": {
            "text/plain": [
              "<Figure size 432x288 with 1 Axes>"
            ],
            "image/png": "[encoded data removed]"
          },
          "metadata": {
            "needs_background": "light"
          }
        }
      ],
      "source": [
        "# Train-test error curve\n",
        "err_train = np.zeros(len(C_candidates))\n",
        "err_test = np.zeros(len(C_candidates))\n",
        "\n",
        "# OPTIONAL\n",
        "# We also store the model coefficients to plot the decision boundaries\n",
        "b = np.zeros_like(C_candidates)\n",
        "w = np.zeros((len(C_candidates), p))\n",
        "\n",
        "for i, C in enumerate(C_candidates):\n",
        "    # print('C = ', C)\n",
        "    clf = sklearn.svm.LinearSVC(penalty='l2',loss='hinge',C=C)\n",
        "    clf.fit(X_train2, y_train2)\n",
        "    \n",
        "    # Store model coefs\n",
        "    b[i] = clf.intercept_[0]\n",
        "    w[i] = clf.coef_[0]\n",
        "\n",
        "    # Training error\n",
        "    y_fit = clf.predict(X_train2)\n",
        "    err_train[i] = error(y_fit, y_train2)\n",
        "    # print('Training error = ', err_train[i])\n",
        "    \n",
        "    # Testing error\n",
        "    y_pred = clf.predict(X_test2)\n",
        "    err_test[i] = error(y_pred, y_test2)\n",
        "    # print('Testing error = ', err_test[i])\n",
        "\n",
        "# Plot training and testing error as a function of C\n",
        "plt.figure()\n",
        "plt.plot(C_candidates, err_train, label='train')\n",
        "plt.xscale('log')\n",
        "plt.plot(C_candidates, err_test, label='test')\n",
        "plt.axvline(best_C, linewidth=1, color='g', label='cross-val C')\n",
        "plt.legend()\n",
        "plt.scatter(best_C, err_train[best_index], marker='x', label='train')\n",
        "plt.scatter(best_C, err_test[best_index], marker='x', label='test')\n",
        "plt.xlabel('C')\n",
        "plt.ylabel('error')\n",
        "plt.show()"
      ]
    },
    {
      "cell_type": "markdown",
      "metadata": {
        "id": "IeY5HFB_utAk"
      },
      "source": [
        "### Interactive plot <a name=\"interactive-plot\"></a>\n",
        "\n",
        "This cell requires the packages [bqplot](https://github.com/bqplot/bqplot) and [ipywidgets](https://ipywidgets.readthedocs.io/en/latest/user_install.html) to be installed. (See installation instructions, then refresh the page)"
      ]
    },
    {
      "cell_type": "code",
      "execution_count": null,
      "metadata": {
        "id": "VpjpHSIeutAk"
      },
      "outputs": [],
      "source": [
        "# # Experimental (not guaranteed to work for everyone):\n",
        "\n",
        "# # Conda installation from the notebook: un-comment the following 2 lines:\n",
        "# # !conda install --yes --prefix {sys.prefix} -c conda-forge bqplot\n",
        "# # !conda install --yes --prefix {sys.prefix} ipywidgets\n",
        "\n",
        "# # If conda install fails for you, try pip install, un-comment the following 3 lines:\n",
        "# !{sys.executable} -m pip install bqplot\n",
        "# !jupyter nbextension enable --py --prefix {sys.prefix} bqplot\n",
        "# !{sys.executable} -m pip install ipywidgets"
      ]
    },
    {
      "cell_type": "code",
      "execution_count": null,
      "metadata": {
        "scrolled": false,
        "id": "6cuntpquutAl",
        "colab": {
          "base_uri": "https://localhost:8080/",
          "height": 258
        },
        "outputId": "f254260e-21d5-46f1-e127-5c4f6727b464"
      },
      "outputs": [
        {
          "output_type": "error",
          "ename": "NameError",
          "evalue": "ignored",
          "traceback": [
            "\u001b[0;31m---------------------------------------------------------------------------\u001b[0m",
            "\u001b[0;31mNameError\u001b[0m                                 Traceback (most recent call last)",
            "\u001b[0;32m<ipython-input-21-0d7eeefdb4ac>\u001b[0m in \u001b[0;36m<module>\u001b[0;34m()\u001b[0m\n\u001b[1;32m      4\u001b[0m \u001b[0mx1\u001b[0m \u001b[0;34m=\u001b[0m \u001b[0mnp\u001b[0m\u001b[0;34m.\u001b[0m\u001b[0mlinspace\u001b[0m\u001b[0;34m(\u001b[0m\u001b[0mX_test2\u001b[0m\u001b[0;34m[\u001b[0m\u001b[0;34m:\u001b[0m\u001b[0;34m,\u001b[0m\u001b[0;36m0\u001b[0m\u001b[0;34m]\u001b[0m\u001b[0;34m.\u001b[0m\u001b[0mmin\u001b[0m\u001b[0;34m(\u001b[0m\u001b[0;34m)\u001b[0m\u001b[0;34m,\u001b[0m \u001b[0mX_test2\u001b[0m\u001b[0;34m[\u001b[0m\u001b[0;34m:\u001b[0m\u001b[0;34m,\u001b[0m\u001b[0;36m0\u001b[0m\u001b[0;34m]\u001b[0m\u001b[0;34m.\u001b[0m\u001b[0mmax\u001b[0m\u001b[0;34m(\u001b[0m\u001b[0;34m)\u001b[0m\u001b[0;34m,\u001b[0m \u001b[0;36m100\u001b[0m\u001b[0;34m)\u001b[0m\u001b[0;34m\u001b[0m\u001b[0;34m\u001b[0m\u001b[0m\n\u001b[1;32m      5\u001b[0m \u001b[0;34m\u001b[0m\u001b[0m\n\u001b[0;32m----> 6\u001b[0;31m slider_C = IntSlider(min=0, max=len(CL)-1, value=len(CL)/2,\n\u001b[0m\u001b[1;32m      7\u001b[0m                      description='Choose C:', readout=False)\n\u001b[1;32m      8\u001b[0m \u001b[0mreadout\u001b[0m \u001b[0;34m=\u001b[0m \u001b[0mHTML\u001b[0m\u001b[0;34m(\u001b[0m\u001b[0;34m)\u001b[0m\u001b[0;34m\u001b[0m\u001b[0;34m\u001b[0m\u001b[0m\n",
            "\u001b[0;31mNameError\u001b[0m: name 'CL' is not defined"
          ]
        }
      ],
      "source": [
        "import bqplot.pyplot as bqp\n",
        "from ipywidgets import IntSlider, HTML, HBox, VBox\n",
        "\n",
        "x1 = np.linspace(X_test2[:,0].min(), X_test2[:,0].max(), 100)\n",
        "\n",
        "slider_C = IntSlider(min=0, max=len(CL)-1, value=len(CL)/2,\n",
        "                     description='Choose C:', readout=False)\n",
        "readout = HTML()\n",
        "fig = bqp.figure(min_aspect_ratio=1.1, max_aspect_ratio=1.1,\n",
        "           layout={'min_width': '500px', 'min_height': '500px'})\n",
        "scat = bqp.scatter(X_test2[::2, 0], X_test2[::2, 1],\n",
        "                   colors=['orange' if y == 1 else 'purple' for y in y_test2[::2]],\n",
        "                   default_size=40, opacities=[0.7])\n",
        "                   #axes_options={'color': None})\n",
        "sep = bqp.plot(x1, np.zeros_like(x1), preserve_domain={'x': True, 'y': True})\n",
        "margin_up = bqp.plot(x1, np.zeros_like(x1), '--', preserve_domain={'x': True, 'y': True})\n",
        "margin_down = bqp.plot(x1, np.zeros_like(x1), '--', preserve_domain={'x': True, 'y': True})\n",
        "\n",
        "\n",
        "def update_margins(*args):\n",
        "    i = slider_C.value\n",
        "    sep.y, margin_up.y, margin_down.y = compute_margins(b[i], w[i, 0], w[i, 1], sep.x)\n",
        "    readout.value = 'C = {:.3f}'.format(CL[i])\n",
        "\n",
        "slider_C.observe(update_margins)\n",
        "update_margins()\n",
        "\n",
        "#bqp.show()\n",
        "VBox([fig, HBox([slider_C, readout])])"
      ]
    },
    {
      "cell_type": "markdown",
      "metadata": {
        "id": "F6JM3d-DutAl"
      },
      "source": [
        "***\n",
        "## Part III - Custom SVM implementation with quadratic programming<a name=\"part3\"></a>\n",
        "We will use a quadratic program (QP) solver `cvxopt` to find our own solution to SVM\n",
        "\n",
        "```\n",
        "cvxopt.solvers.qp(P, q[, G, h[, A, b]])\n",
        "```\n",
        "solves the quadratic program\n",
        "\n",
        "$$\n",
        "\\begin{aligned}\n",
        "\\min_x & \\, \\frac{1}{2}x^\\top P x + q^\\top x \\\\\n",
        "\\mathrm{s.t. } \\, & Gx \\leq h \\\\\n",
        "& Ax = b\n",
        "\\end{aligned}\n",
        "$$\n",
        "\n",
        "- $P, q$ define the objective\n",
        "- $G, h$ are all the inequality constraints\n",
        "- $A, b$ are all the equality constraints\n",
        "\n",
        "**Goal: Find $P$, $q$, $G$, $h$, $A$ and $b$ for SVM**\n",
        "***"
      ]
    },
    {
      "cell_type": "code",
      "execution_count": null,
      "metadata": {
        "id": "NxFwRvk1utAl"
      },
      "outputs": [],
      "source": [
        "# You don't need to look at this, this is just to adapt our matrices\n",
        "# to the solver being used\n",
        "\n",
        "def quadprog_solve_qp(P, q, G=None, h=None, A=None, b=None):\n",
        "    qp_G = .5 * (P + P.T)   # make sure P is symmetric\n",
        "    qp_a = -q\n",
        "    if A is not None:\n",
        "        qp_C = -np.vstack([A, G]).T\n",
        "        qp_b = -np.hstack([b, h])\n",
        "        meq = A.shape[0]\n",
        "    else:  # no equality constraint\n",
        "        qp_C = - G.T\n",
        "        qp_b = - h\n",
        "        meq = 0\n",
        "    return quadprog.solve_qp(qp_G, qp_a, qp_C, qp_b, meq)[0]\n",
        "\n",
        "def cvxopt_qp(P, q, G, h, A, b):\n",
        "    P = .5 * (P + P.T)\n",
        "    cvx_matrices = [\n",
        "        cvxopt.matrix(M) if M is not None else None for M in [P, q, G, h, A, b] \n",
        "    ]\n",
        "    solution = cvxopt.solvers.qp(*cvx_matrices)\n",
        "    return np.array(solution['x']).flatten()\n",
        "\n",
        "solve_qp = {'quadprog': quadprog_solve_qp, 'cvxopt': cvxopt_qp}[solver]"
      ]
    },
    {
      "cell_type": "markdown",
      "metadata": {
        "id": "raXyjNmOutAl"
      },
      "source": [
        "### Hard Margin SVM <a name=\"hard-margin\"></a>\n",
        "(See slide 83)"
      ]
    },
    {
      "cell_type": "markdown",
      "metadata": {
        "id": "jcM7jbrJutAl"
      },
      "source": [
        "### Primal problem (hard margin) <a name=\"hard-margin-primal\"></a>\n",
        "$$\n",
        "\\begin{aligned}\n",
        "\\min_{w, b} & \\, \\frac{1}{2}w^\\top w \\\\\n",
        "\\mathrm{s.t. } \\, & y_i x_i^\\top w + y_i b \\geq 1 \\,\\,\\,, \\forall i \\in [1, n]\\\\\n",
        "\\end{aligned}\n",
        "$$"
      ]
    },
    {
      "cell_type": "markdown",
      "metadata": {
        "id": "mQsth83LutAm"
      },
      "source": [
        "First step: what is $x$ in our case, with the slides notations?\n",
        "\n",
        "$x = (w_1,\\cdots,w_n,b)$"
      ]
    },
    {
      "cell_type": "markdown",
      "metadata": {
        "id": "jOuhyhllutAm"
      },
      "source": [
        "***\n",
        "**We set $X_y = \\mathrm{diag}(y)X = (y_1x_1, ..., y_nx_n)^\\top \\in \\mathbb{R}^{n\\times p}$**\n",
        "\n",
        "$X_y$ is simply $X$ with its rows $i$ multiplied by $y_i$"
      ]
    },
    {
      "cell_type": "markdown",
      "metadata": {
        "id": "onxk6LnbutAm"
      },
      "source": [
        "### Hard margin SVM\n",
        "\n",
        "**Primal**\n",
        "$$\n",
        "\\begin{aligned}\n",
        "\\min_{w, b} & \\, \\frac{1}{2}w^\\top w \\\\\n",
        "\\mathrm{s.t. } \\, & y_i x_i^\\top w + y_i b \\geq 1\\\\\n",
        "\\end{aligned}\n",
        "$$\n",
        "\n",
        "<font color='red'> Watch out for the signs in the constraints! </font>"
      ]
    },
    {
      "cell_type": "markdown",
      "metadata": {
        "id": "aNIwmGTPutAm"
      },
      "source": [
        "### Let's implement it!"
      ]
    },
    {
      "cell_type": "code",
      "execution_count": null,
      "metadata": {
        "id": "6wTjNASSutAn"
      },
      "outputs": [],
      "source": [
        "def svm_primal_hard_to_qp(X, y):\n",
        "    n, p = X.shape\n",
        "    assert (len(y) == n)\n",
        "    \n",
        "    Xy = np.diag(y).dot(X)\n",
        "    # Primal formulation, hard margin\n",
        "    diag_P = np.zeros(p + 1) # correct this!\n",
        "    diag_P[:-1] +=1\n",
        "    # As a regularization, we add epsilon * identity to P\n",
        "    eps = 1e-12\n",
        "    diag_P += eps\n",
        "    P = np.diag(diag_P)\n",
        "    \n",
        "    q = np.zeros(p+1)\n",
        "    G = - np.hstack([Xy,y[:,None]])\n",
        "    h = - np.zeros(n)\n",
        "    A = None\n",
        "    b = None\n",
        "    \n",
        "    return P, q, G, h, A, b\n",
        "\n",
        "x = solve_qp(*svm_primal_hard_to_qp(X_train, y_train))\n",
        "n, p = X_train.shape\n",
        "w, b = x[:-1], x[-1]"
      ]
    },
    {
      "cell_type": "code",
      "execution_count": null,
      "metadata": {
        "id": "C8-20QDYutAn"
      },
      "outputs": [],
      "source": [
        "plot_points_with_margin(X_train, y_train, w, b)"
      ]
    },
    {
      "cell_type": "markdown",
      "metadata": {
        "id": "kP-W0xLSutAn"
      },
      "source": [
        "#### Dual: <a name=\"hard-margin-dual\"></a>\n",
        "$$\n",
        "\\begin{aligned}\n",
        "\\max_\\alpha & \\, \\mathrm{1}^\\top\\alpha - \\frac{1}{2}\\alpha^\\top X_y X_y^\\top \\alpha \\\\\n",
        "\\mathrm{s.t. } \\, & \\alpha \\geq 0 \\\\\n",
        "& y^\\top\\alpha = 0\n",
        "\\\\\n",
        "\\end{aligned}\n",
        "$$\n",
        "\n",
        "You can verify that:\n",
        "$$\n",
        "L(\\alpha) =  -\\frac{1}{2}\\sum_{i, j} \\alpha_i \\alpha_j x_i^\\top x_j y_i y_j + \\sum_i \\alpha_i = -\\frac{1}{2} \\alpha^\\top X_y X_y^\\top \\alpha + \\mathbf{1}^\\top\\alpha\n",
        "$$\n",
        "\n",
        "Then implement it below:"
      ]
    },
    {
      "cell_type": "code",
      "execution_count": null,
      "metadata": {
        "id": "g5SQMWi6utAn"
      },
      "outputs": [],
      "source": [
        "def svm_dual_hard_to_qp(X, y):\n",
        "    n, p = X.shape\n",
        "    assert (len(y) == n)\n",
        "    \n",
        "    Xy = np.diag(y).dot(X)\n",
        "    # Dual formulation, hard margin\n",
        "    P = Xy@Xy.T\n",
        "\n",
        "    # As a regularization, we add epsilon * identity to P\n",
        "    eps = 1e-12\n",
        "    P += eps * np.eye(n)\n",
        "    \n",
        "    q = -np.ones(n)\n",
        "    G = -np.eye(n)\n",
        "    h = np.zeros(n)\n",
        "    A = y.reshape(1,-1)\n",
        "\n",
        "    b =np.zeros((1,1))\n",
        "\n",
        "    return P, q, G, h, A, b\n",
        "\n",
        "alphas = solve_qp(*svm_dual_hard_to_qp(X_train, y_train))"
      ]
    },
    {
      "cell_type": "markdown",
      "metadata": {
        "id": "PD5zg5DbutAn"
      },
      "source": [
        "### How do we find $w$ and $b$ from $\\alpha$? $$$$<a name=\"primal-from-dual-hard\"></a>\n",
        "$$$$\n",
        "\n",
        "Answer is in slide 82"
      ]
    },
    {
      "cell_type": "code",
      "execution_count": null,
      "metadata": {
        "id": "w7qqhTL-utAn"
      },
      "outputs": [],
      "source": [
        "def get_primal_from_dual(alpha, X, y, hard_margin=False, C=None, tol=1e-3):\n",
        "    # w parameter in vectorized form\n",
        "    w = (alpha * y)@X\n",
        "    \n",
        "    # sv = Support vectors!\n",
        "    # Indices of points (support vectors) that lie exactly on the margin\n",
        "    # Filter out points with alpha == 0\n",
        "    sv = np.where((alpha>tol))[0][0]\n",
        "    # If soft margin, also filter out points with alpha == C\n",
        "    if not hard_margin:\n",
        "        if C is None:\n",
        "            raise ValueError('C must be defined in soft margin mode')\n",
        "        sv = np.logical_and(sv,sv)\n",
        "    b = y[sv]-w.dot(X[sv])\n",
        "    \n",
        "    #Display results\n",
        "    print('Alphas = {}'.format(alpha[sv]))\n",
        "    print('Number of support vectors = {}'.format(sv.sum()))\n",
        "    print('w = {}'.format(w))\n",
        "    print('b = {}'.format(b))\n",
        "    \n",
        "    return w, b\n",
        "\n",
        "w, b = get_primal_from_dual(alphas, X_train, y_train, hard_margin=True)\n",
        "plot_points_with_margin(X_train, y_train, w, b)"
      ]
    },
    {
      "cell_type": "markdown",
      "metadata": {
        "id": "jO7UThOHutAo"
      },
      "source": [
        "#### Does not work if data is not linearly separable! <a name=\"non-separable\"></a>"
      ]
    },
    {
      "cell_type": "code",
      "execution_count": null,
      "metadata": {
        "scrolled": true,
        "id": "ffjI7ZciutAo"
      },
      "outputs": [],
      "source": [
        "X_non_separable, y_non_separable = generate_Xy(20, sigma=2)\n",
        "solve_qp(*svm_primal_hard_to_qp(X_non_separable, y_non_separable))"
      ]
    },
    {
      "cell_type": "markdown",
      "metadata": {
        "id": "Q3gvk1-outAo"
      },
      "source": [
        "### Soft margin SVM <a name=\"soft-margin\"></a>\n",
        "(slides 89, 91)\n",
        "\n",
        "### Primal (soft margin): <a name=\"soft-margin-primal\"></a>\n",
        "$$\n",
        "\\begin{aligned}\n",
        "\\min_{w, b, \\xi} & \\, \\frac{1}{2}w^\\top w + C \\mathbf{1}^\\top \\xi \\\\\n",
        "\\mathrm{s.t. } \\, & \\xi \\geq 0 \\\\\n",
        "& y_i x_i^\\top w + y_i b + \\xi_i\\geq 1\n",
        "\\\\\n",
        "\\end{aligned}\n",
        "$$"
      ]
    },
    {
      "cell_type": "code",
      "execution_count": null,
      "metadata": {
        "scrolled": true,
        "id": "NTl2d4HuutAo"
      },
      "outputs": [],
      "source": [
        "def svm_primal_soft_to_qp(X, y, C=1):\n",
        "    n, p = X.shape\n",
        "    assert (len(y) == n)\n",
        "    \n",
        "    Xy = np.diag(y).dot(X)\n",
        "    # Primal formulation, soft margin\n",
        "    diag_P = \n",
        "    # As a regularization, we add epsilon * identity to P\n",
        "    eps = 1e-12\n",
        "    diag_P += eps\n",
        "    P = np.diag(diag_P)\n",
        "    \n",
        "    q = \n",
        "    G =\n",
        "    h =\n",
        "    A = None\n",
        "    b = None\n",
        "    return P, q, G, h, A, b\n",
        "\n",
        "coefs = solve_qp(*svm_primal_soft_to_qp(X_train, y_train, C=C))\n",
        "n, p = X_train.shape\n",
        "w, b, e = coefs[:p], coefs[p], coefs[(p+1):]\n"
      ]
    },
    {
      "cell_type": "code",
      "execution_count": null,
      "metadata": {
        "scrolled": true,
        "id": "_rWhuIhyutAo"
      },
      "outputs": [],
      "source": [
        "plot_points_with_margin(X_train, y_train, w, b)"
      ]
    },
    {
      "cell_type": "markdown",
      "metadata": {
        "id": "wzjIdeCoutAo"
      },
      "source": [
        "### Dual (soft margin): <a name=\"soft-margin-dual\"></a>\n",
        "$$\n",
        "\\begin{aligned}\n",
        "\\max_\\alpha & \\, \\mathrm{1}^\\top\\alpha -\\frac{1}{2}\\alpha^\\top X_y^T X_y \\alpha \\\\\n",
        "\\mathrm{s.t. } \\, & \\alpha \\geq 0 \\\\\n",
        "& \\alpha \\leq C \\\\\n",
        "& y^\\top\\alpha = 0\n",
        "\\\\\n",
        "\\end{aligned}\n",
        "$$"
      ]
    },
    {
      "cell_type": "code",
      "execution_count": null,
      "metadata": {
        "id": "zFjJxvKXutAo"
      },
      "outputs": [],
      "source": [
        "def svm_dual_soft_to_qp(X, y, C=1):\n",
        "    n, p = X.shape\n",
        "    assert (len(y) == n)\n",
        "    \n",
        "    Xy = np.diag(y).dot(X)\n",
        "    # Dual formulation, soft margin\n",
        "    P =\n",
        "    # As a regularization, we add epsilon * identity to P\n",
        "    eps = 1e-12\n",
        "    P += eps * np.eye(n)\n",
        "    q =\n",
        "    G =\n",
        "    h =\n",
        "    A =\n",
        "    b =\n",
        "    return P, q, G, h, A, b\n",
        "\n",
        "C = 10\n",
        "alphas = solve_qp(*svm_dual_soft_to_qp(X_train, y_train, C=C))\n"
      ]
    },
    {
      "cell_type": "markdown",
      "metadata": {
        "collapsed": true,
        "id": "RMyrXOjTutAo"
      },
      "source": [
        "#### Finding $w$ and $b$ from $\\alpha$ $$$$<a name=\"primal-from-dual-soft\"></a>\n",
        "$$$$\n",
        "\n",
        "Answer is in slide 92"
      ]
    },
    {
      "cell_type": "code",
      "execution_count": null,
      "metadata": {
        "id": "4eN-NILuutAp"
      },
      "outputs": [],
      "source": [
        "w, b = get_primal_from_dual(alphas, X_train, y_train, C=C)\n",
        "plot_points_with_margin(X_train, y_train, w, b)"
      ]
    },
    {
      "cell_type": "code",
      "execution_count": null,
      "metadata": {
        "id": "KTzG0pjButAp"
      },
      "outputs": [],
      "source": [
        ""
      ]
    }
  ],
  "metadata": {
    "kernelspec": {
      "display_name": "Python 3 (ipykernel)",
      "language": "python",
      "name": "python3"
    },
    "language_info": {
      "codemirror_mode": {
        "name": "ipython",
        "version": 3
      },
      "file_extension": ".py",
      "mimetype": "text/x-python",
      "name": "python",
      "nbconvert_exporter": "python",
      "pygments_lexer": "ipython3",
      "version": "3.7.6"
    },
    "colab": {
      "name": "Kernel Methods Practical Session 3.ipynb",
      "provenance": [],
      "include_colab_link": true
    },
    "accelerator": "GPU",
    "gpuClass": "standard"
  },
  "nbformat": 4,
  "nbformat_minor": 0
}