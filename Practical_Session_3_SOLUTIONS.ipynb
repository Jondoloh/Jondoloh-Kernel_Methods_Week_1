{
  "cells": [
    {
      "cell_type": "markdown",
      "metadata": {
        "id": "view-in-github",
        "colab_type": "text"
      },
      "source": [
        "<a href=\"https://colab.research.google.com/github/Jondoloh/Jondoloh-Kernel_Methods_Week_1/blob/main/Practical_Session_3_SOLUTIONS.ipynb\" target=\"_parent\"><img src=\"https://colab.research.google.com/assets/colab-badge.svg\" alt=\"Open In Colab\"/></a>"
      ]
    },
    {
      "cell_type": "markdown",
      "metadata": {
        "id": "81TugPmBX_uq"
      },
      "source": [
        "# Practical Session 2 - Solutions\n",
        "### Kernel Methods for Machine Learning"
      ]
    },
    {
      "cell_type": "markdown",
      "metadata": {
        "id": "VUREQx5OX_uu"
      },
      "source": [
        "Written by Yunlong Jiao / Romain Menegaux, 21 June 2022"
      ]
    },
    {
      "cell_type": "markdown",
      "metadata": {
        "id": "RuVb9FWeX_uu"
      },
      "source": [
        "**To access this notebook:**\n",
        "\n",
        "In your terminal:\n",
        "\n",
        "1st download:\n",
        "`git clone https://github.com/rmenegaux/kernels-AMMI-2022`\n",
        "\n",
        "To get the latest version:\n",
        "- Go to the directory `cd kernels-AMMI-2022`\n",
        "- Run `git pull origin`"
      ]
    },
    {
      "cell_type": "code",
      "execution_count": null,
      "metadata": {
        "id": "OLW76AHyX_uv"
      },
      "outputs": [],
      "source": [
        "# setup\n",
        "import numpy as np"
      ]
    },
    {
      "cell_type": "code",
      "execution_count": null,
      "metadata": {
        "id": "iu4gYcavX_uw",
        "outputId": "4c43ffbf-4faa-4e2b-e6b0-9413ea587d86"
      },
      "outputs": [
        {
          "name": "stdout",
          "output_type": "stream",
          "text": [
            "3.7.6 (default, Jan  8 2020, 13:42:34) \n",
            "[Clang 4.0.1 (tags/RELEASE_401/final)]\n"
          ]
        }
      ],
      "source": [
        "import sys\n",
        "print(sys.version)"
      ]
    },
    {
      "cell_type": "code",
      "execution_count": null,
      "metadata": {
        "id": "wOi1WLugX_uw",
        "outputId": "8021e4ed-9cbc-4d30-e646-a3e76573cde1"
      },
      "outputs": [
        {
          "data": {
            "text/plain": [
              "'1.0.2'"
            ]
          },
          "execution_count": 3,
          "metadata": {},
          "output_type": "execute_result"
        }
      ],
      "source": [
        "import sklearn\n",
        "from sklearn import linear_model as lm\n",
        "sklearn.__version__"
      ]
    },
    {
      "cell_type": "markdown",
      "metadata": {
        "id": "v_R5d1lYX_ux"
      },
      "source": [
        "***\n",
        "## Tasks"
      ]
    },
    {
      "cell_type": "markdown",
      "metadata": {
        "id": "s0cvfaFGX_ux"
      },
      "source": [
        "1. Implement (naive) solvers to Ridge Regression, Weighted Ridge Regression and Logistic Ridge Regression (using Iteratively Reweighted Least Squares). See notes for the mathematical derivation.\n",
        "2. Simulate some toy data to check if our solvers give correct solutions."
      ]
    },
    {
      "cell_type": "markdown",
      "metadata": {
        "id": "YR3KHkFFX_ux"
      },
      "source": [
        "***\n",
        "### Ridge Regression (RR)\n",
        "\n",
        "Given $X \\in \\mathbb{R}^{n \\times p}$ and $y \\in \\mathbb{R}^n$, solve\n",
        "$$\n",
        "\\min_{\\beta \\in \\mathbb{R}^p} J(\\beta) = \\frac{1}{n} \\|y - X \\beta\\|^2 + \\lambda \\|\\beta\\|^2 \\,.\n",
        "$$\n",
        "\n",
        "Step 1: Compute $\\nabla J$, and write the condition $\\nabla J(\\beta^{ridge}) = 0$"
      ]
    },
    {
      "cell_type": "markdown",
      "metadata": {
        "id": "G-HoyxilX_uy"
      },
      "source": [
        "**Solution**\n",
        "The gradient (Jacobian) of the objective is:\n",
        "$$\\nabla f(\\beta) = \\frac{2}{n}X^\\top(X\\beta - y) + 2\\lambda \\beta$$\n",
        "\n",
        "The optimal solution verifies:\n",
        "<font color='green'>\n",
        "$$\\nabla f(\\beta) = 0 \\iff (X^\\top X + n\\lambda I)\\beta = X^\\top y$$\n",
        "</font>\n",
        "\n",
        "$\\|y - X \\beta\\|^2 = (X \\beta - y)^\\top(X \\beta - y)$"
      ]
    },
    {
      "cell_type": "code",
      "execution_count": null,
      "metadata": {
        "id": "x5PZGqvLX_uy"
      },
      "outputs": [],
      "source": [
        "# Ridge Regression (RR)\n",
        "def solveRR(y, X, lam):\n",
        "    n, p = X.shape\n",
        "    assert (len(y) == n)\n",
        "    \n",
        "    A = X.T.dot(X)\n",
        "    # Adjust diagonal due to Ridge\n",
        "    # A[np.diag_indices_from(A)] += lam * n\n",
        "    A += n * lam * np.eye(p)\n",
        "    b = X.T.dot(y)\n",
        "    # Hint:\n",
        "    beta = np.linalg.solve(A, b)\n",
        "    # Finds solution to the linear system Ax = b\n",
        "    return (beta)"
      ]
    },
    {
      "cell_type": "markdown",
      "metadata": {
        "id": "Q2IjbGIzX_uy"
      },
      "source": [
        "### Evaluation of our Ridge Regression solver:\n",
        "#### One-dimensional data\n",
        "(for visualization purposes)"
      ]
    },
    {
      "cell_type": "code",
      "execution_count": null,
      "metadata": {
        "id": "z8y1mMUmX_uz",
        "outputId": "7b9e3ba1-b0c7-4c0f-d0eb-c19147f31cf1"
      },
      "outputs": [
        {
          "name": "stdout",
          "output_type": "stream",
          "text": [
            "[0.78678556]\n"
          ]
        }
      ],
      "source": [
        "np.random.seed(42)\n",
        "n = 100\n",
        "X = np.random.rand(n)\n",
        "beta_star = 0.8\n",
        "y = X * beta_star + 0.1 * np.random.normal(0, 1, n)\n",
        "X = X[:, None] # Make X 2-dimensional to ensure consistency with rest of notebook\n",
        "\n",
        "lam = 0\n",
        "beta_hat = solveRR(y, X, lam)\n",
        "\n",
        "print(beta_hat)"
      ]
    },
    {
      "cell_type": "code",
      "execution_count": null,
      "metadata": {
        "id": "0RcYVsgQX_uz",
        "outputId": "941f62c3-620e-4380-edf2-78c51672f0b4"
      },
      "outputs": [
        {
          "data": {
            "image/png": "[encoded data removed]",
            "text/plain": [
              "<Figure size 576x504 with 1 Axes>"
            ]
          },
          "metadata": {
            "needs_background": "light"
          },
          "output_type": "display_data"
        }
      ],
      "source": [
        "import matplotlib.pyplot as plt\n",
        "\n",
        "plt.figure(figsize=(8,7))\n",
        "plt.title('Ridge regression, lambda = {}'.format(lam))\n",
        "plt.scatter(X, y)\n",
        "plt.plot(X, X * beta_hat, c='r')\n",
        "plt.xlabel('$x$')\n",
        "plt.ylabel('$y$')\n",
        "plt.show()"
      ]
    },
    {
      "cell_type": "markdown",
      "metadata": {
        "id": "dJXQoBlmX_u0"
      },
      "source": [
        "#### Evaluation on p-dimensional data\n",
        "---"
      ]
    },
    {
      "cell_type": "code",
      "execution_count": null,
      "metadata": {
        "id": "NewgZALAX_u0"
      },
      "outputs": [],
      "source": [
        "# Toy data\n",
        "np.random.seed(42) # for reproducibility\n",
        "n = 100 # number of samples\n",
        "p = 10 # number of features\n",
        "X = np.random.normal(0, 1, (n, p))\n",
        "X = sklearn.preprocessing.scale(X) # scale to 0 mean and 1 standard deviation\n",
        "beta_star = np.random.normal(0, 1, p)\n",
        "# y = X * beta + noise\n",
        "y = X.dot(beta_star) + 0.2 * np.random.normal(0, 1, n) \n",
        "\n",
        "def compare(beta1, beta2):\n",
        "    print('''\n",
        "Our solver:\n",
        "{}\n",
        "Scikit-learn:\n",
        "{}\n",
        "\n",
        "Difference between the two:\n",
        "{:.1e}\n",
        "        '''.format(beta1.round(2), beta2.round(2), float(np.sum((beta1-beta2)**2)))\n",
        "    )"
      ]
    },
    {
      "cell_type": "code",
      "execution_count": null,
      "metadata": {
        "id": "R_OdUuJJX_u0",
        "outputId": "8bb29f1f-72df-429d-a042-dcd278990ee4"
      },
      "outputs": [
        {
          "name": "stdout",
          "output_type": "stream",
          "text": [
            "\n",
            "Our solver:\n",
            "[ 1.28  0.79  0.05 -0.55  0.65  0.33  0.77  0.63  0.97 -0.53]\n",
            "Scikit-learn:\n",
            "[ 1.28  0.79  0.05 -0.55  0.65  0.33  0.77  0.63  0.97 -0.53]\n",
            "\n",
            "Difference between the two:\n",
            "2.0e-31\n",
            "        \n"
          ]
        },
        {
          "name": "stderr",
          "output_type": "stream",
          "text": [
            "/Users/romainmenegaux/miniconda3/lib/python3.7/site-packages/sklearn/linear_model/_base.py:155: FutureWarning: 'normalize' was deprecated in version 1.0 and will be removed in 1.2. Please leave the normalize parameter to its default value to silence this warning. The default behavior of this estimator is to not do any normalization. If normalization is needed please use sklearn.preprocessing.StandardScaler instead.\n",
            "  FutureWarning,\n"
          ]
        }
      ],
      "source": [
        "lam = 0.1\n",
        "\n",
        "# Our solver\n",
        "beta1 = solveRR(y, X, lam)\n",
        "\n",
        "# Python solver\n",
        "alpha = lam * X.shape[0]\n",
        "model = lm.Ridge(alpha=alpha, fit_intercept=False, normalize=False)\n",
        "beta2 = model.fit(X, y).coef_\n",
        "\n",
        "# Check\n",
        "compare(beta1, beta2)"
      ]
    },
    {
      "cell_type": "markdown",
      "metadata": {
        "id": "SlGYc20dX_u1"
      },
      "source": [
        "***\n",
        "### Weighted Ridge Regression (WRR)\n",
        "\n",
        "Given $X \\in \\mathbb{R}^{n \\times p}$ and $y \\in \\mathbb{R}^n$, and weights $w \\in \\mathbb{R}^n_+$, solve\n",
        "$$\n",
        "\\min_{\\beta \\in \\mathbb{R}^p} \\frac{1}{n} \\sum_{i=1}^n w_i (y_i - \\beta^\\top x_i)^2 + \\lambda \\|\\beta\\|^2 \\,.\n",
        "$$\n",
        "\n",
        "**Goal:** Express the objective as a regular Ridge Regression (RR)\n",
        "\n",
        "Since the weights $w_i$ are non-negative, we can pull $w_i$ inside the parenthesis:\n",
        "$$\\sum_{i=1}^n w_i (y_i - \\beta^\\top x_i)^2 = \\sum_{i=1}^n  (\\sqrt{w_i}y_i - \\beta^\\top \\sqrt{w_i} x_i)^2$$\n",
        "\n",
        "This is a regular Ridge Regression (RR)!\n",
        "\n",
        "with <font color='green'> $y_i' = \\sqrt{w_i}y_i$</font> and <font color='green'>$x_i' = \\sqrt{w_i}x_i$ </font>\n",
        "$$$$"
      ]
    },
    {
      "cell_type": "markdown",
      "metadata": {
        "id": "Qrn3yZ0HX_u1"
      },
      "source": [
        "#### In matrix form:\n",
        "\n",
        "Introducing the diagonal matrix $W = \\mathrm{diag}(w_1, ..., w_n)$, we can rewrite the objective\n",
        "$$\\sum_{i=1}^n w_i (y_i - \\beta^\\top x_i)^2 = (Y - X\\beta)^\\top W (Y - X\\beta)$$\n",
        "\n",
        "We now write $W = W^\\frac{1}{2}W^\\frac{1}{2} = (W^\\frac{1}{2})^\\top W^\\frac{1}{2}$, where $W^\\frac{1}{2} = \\mathrm{diag}(\\sqrt{w_1}, ..., \\sqrt{w_n})$\n",
        "$$$$\n",
        "\n",
        "The objective becomes:\n",
        "$$\n",
        "\\frac{1}{n} (W^\\frac{1}{2}Y - W^\\frac{1}{2}X\\beta)^\\top  (W^\\frac{1}{2}Y - W^\\frac{1}{2}X\\beta) + \\lambda \\|\\beta\\|^2 = \\frac{1}{n} \\|Y' - X'\\beta\\|^2 + \\lambda \\|\\beta\\|^2 \\,\n",
        "$$\n",
        "with <font color='green'>$Y' = W^\\frac{1}{2} Y$</font> and <font color='green'>$X' = W^\\frac{1}{2} X$</font>"
      ]
    },
    {
      "cell_type": "code",
      "execution_count": null,
      "metadata": {
        "id": "E5CK_z2OX_u1"
      },
      "outputs": [],
      "source": [
        "# Weighted Ridge Regression (WRR)\n",
        "def solveWRR(y, X, w, lam):\n",
        "    n, p = X.shape\n",
        "    assert (len(y) == len(w) == n)\n",
        "\n",
        "    w_sqrt = np.sqrt(w)\n",
        "    \n",
        "    y1 = w_sqrt * y\n",
        "    X1 = X * w_sqrt[:, None] \n",
        "    # Or X1 = np.diag(w_sqrt) @ X # (Less efficient)\n",
        "\n",
        "    # Hint:\n",
        "    # Find y1 and X1 such that:\n",
        "    beta = solveRR(y1, X1, lam)\n",
        "    return (beta)"
      ]
    },
    {
      "cell_type": "markdown",
      "metadata": {
        "id": "br44uUeZX_u2"
      },
      "source": [
        "**Try it out:**"
      ]
    },
    {
      "cell_type": "code",
      "execution_count": null,
      "metadata": {
        "id": "2UTcsW2CX_u2",
        "outputId": "7fe47b63-424a-45e4-a6a4-47869a8428ab"
      },
      "outputs": [
        {
          "name": "stdout",
          "output_type": "stream",
          "text": [
            "\n",
            "Our solver:\n",
            "[ 1.22  0.69  0.05 -0.5   0.6   0.27  0.66  0.6   0.86 -0.51]\n",
            "Scikit-learn:\n",
            "[ 1.22  0.69  0.05 -0.5   0.6   0.27  0.66  0.6   0.86 -0.51]\n",
            "\n",
            "Difference between the two:\n",
            "2.1e-31\n",
            "        \n"
          ]
        },
        {
          "name": "stderr",
          "output_type": "stream",
          "text": [
            "/Users/romainmenegaux/miniconda3/lib/python3.7/site-packages/sklearn/linear_model/_base.py:155: FutureWarning: 'normalize' was deprecated in version 1.0 and will be removed in 1.2. Please leave the normalize parameter to its default value to silence this warning. The default behavior of this estimator is to not do any normalization. If normalization is needed please use sklearn.preprocessing.StandardScaler instead.\n",
            "  FutureWarning,\n"
          ]
        }
      ],
      "source": [
        "lam = 0.1\n",
        "w = np.random.rand(len(y))\n",
        "\n",
        "# Our solver\n",
        "beta1 = solveWRR(y, X, w, lam)\n",
        "\n",
        "# Python solver\n",
        "alpha = lam * X.shape[0]\n",
        "model = lm.Ridge(alpha=alpha, fit_intercept=False, normalize=False)\n",
        "beta2 = model.fit(X, y, sample_weight=w).coef_\n",
        "\n",
        "# Check\n",
        "compare(beta1, beta2)"
      ]
    },
    {
      "cell_type": "markdown",
      "metadata": {
        "id": "1GJbuNAtX_u2"
      },
      "source": [
        "***\n",
        "## Logistic Ridge Regression (LRR)\n",
        "----\n",
        "\n",
        "Given $X \\in \\mathbb{R}^{n \\times p}$ and $y \\in \\{-1,+1\\}^n$, solve\n",
        "$$\n",
        "\\min_{\\beta \\in \\mathbb{R}^p} \\frac{1}{n} \\sum_{i=1}^n \\log (1+e^{-y_i \\beta^\\top x_i}) + \\lambda \\|\\beta\\|^2 \\,.\n",
        "$$"
      ]
    },
    {
      "cell_type": "markdown",
      "metadata": {
        "id": "dHmLKCG0X_u2"
      },
      "source": [
        "Let $\\sigma(x) = \\frac{1}{1 + e^{-x}}$ be the sigmoid function.\n",
        "\n",
        "**Exercise:** Compute $\\sigma'(x)$\n",
        "\n",
        "**Solution**: $$\\sigma'(x) = \\frac{e^{-x}}{(1+e^{-x})^2} = \\frac{1}{1+e^{-x}} - \\frac{1}{(1+e^{-x})^2} = \\sigma(x)(1-\\sigma(x)) = \\sigma(x)\\sigma(-x)$$"
      ]
    },
    {
      "cell_type": "markdown",
      "metadata": {
        "id": "VMuXKPQYX_u3"
      },
      "source": [
        "Rewriting $J$:\n",
        "$$\n",
        "J(\\beta) = - \\frac{1}{n} \\sum_{i=1}^n {\\log(\\sigma(y_i\\beta^\\top x_i))} + \\lambda \\|\\beta\\|^2 \\,.\n",
        "$$\n",
        "\n",
        "**Exercise:** Compute its gradient $\\nabla J$, and its Hessian $\\nabla^2 J$\n",
        "$$$$"
      ]
    },
    {
      "cell_type": "markdown",
      "metadata": {
        "id": "QrhSPVy4X_u3"
      },
      "source": [
        "#### Computing the gradient:\n",
        "$$\n",
        "\\nabla J(\\beta) = - \\frac{1}{n} \\sum_{i=1}^n {y_i \\sigma(-y_i\\beta^\\top x_i) x_i} + 2\\lambda \\beta \\,.\n",
        "$$"
      ]
    },
    {
      "cell_type": "markdown",
      "metadata": {
        "id": "WDt5cg0mX_u3"
      },
      "source": [
        "#### Hessian matrix:\n",
        "$$\n",
        "\\nabla^2 J(\\beta) = \\nabla \\left(\\nabla J(\\beta)\\right)\n",
        "$$\n",
        "\n",
        "$$\n",
        "\\nabla^2 J(\\beta) = - \\frac{1}{n} \\sum_{i=1}^n {\\sigma(y_i\\beta^\\top x_i)\\sigma(-y_i\\beta^\\top x_i) x_i x_i^\\top} + 2\\lambda I \\,\n",
        "$$\n",
        "\n",
        "Define $w_i = \\sigma(y_i\\beta^\\top x_i)\\sigma(-y_i\\beta^\\top x_i)$ and $W = \\mathrm{diag}(w_1, ..., w_n)$\n",
        "<font color='green'>\n",
        "$$\n",
        "\\nabla^2 J(\\beta) = - \\frac{1}{n} X^\\top W X + 2\\lambda I \\,\n",
        "$$\n",
        "</font>"
      ]
    },
    {
      "cell_type": "markdown",
      "metadata": {
        "id": "Q-mKkhV3X_u3"
      },
      "source": [
        "### Gradient descent\n",
        "\n",
        "- Initialize $\\beta^{old} = \\beta_0$\n",
        "- Repeat until convergence: $$\n",
        "\\beta^{new} \\leftarrow \\beta^{old} - h \\nabla J(\\beta^{old})\n",
        "$$\n",
        "where $h$ is the step size (learning rate)\n",
        "\n",
        "Under some conditions on $J$ (for example if $J$ is *convex* and $\\nabla J$ is Lipschitz), and with an appropriate step-size $h$, this algorithm converges to a point $\\beta^*$ such that $\\nabla J(\\beta^*) = 0$  "
      ]
    },
    {
      "cell_type": "markdown",
      "metadata": {
        "id": "3bg1lqtlX_u3"
      },
      "source": [
        "### Implementation of Logistic Ridge Regression with Gradient Descent\n",
        "---"
      ]
    },
    {
      "cell_type": "code",
      "execution_count": null,
      "metadata": {
        "id": "a9xWAQNGX_u4"
      },
      "outputs": [],
      "source": [
        "# Logistic Ridge Regression (LRR) with gradient descent (GD)\n",
        "def solveLRR_gradient(y, X, lam, h=0.01, max_iter=500, eps=1e-12):\n",
        "    '''\n",
        "    lam: Regularization parameter\n",
        "    max_iter: Max number of iterations of gradient descent\n",
        "    eps: Tolerance for stopping criteria \n",
        "    '''\n",
        "    n, p = X.shape\n",
        "    assert (len(y) == n)\n",
        "    \n",
        "    beta_old = np.zeros(p)\n",
        "    \n",
        "    def sigmoid(x):\n",
        "        return 1 / (1 + np.exp(-x))\n",
        "            \n",
        "    for i in range(max_iter):\n",
        "        # yi beta^T xi\n",
        "        f = (X * y[:, None]).dot(beta_old)\n",
        "        gradient = - 1 / n * (y * sigmoid(-f)).dot(X)\n",
        "        gradient += 2 * lam * beta_old\n",
        "        \n",
        "        # Step\n",
        "        beta_new = beta_old - h * gradient\n",
        "        \n",
        "        if np.sum((beta_new-beta_old)**2) < eps:\n",
        "            break\n",
        "        beta_old = beta_new\n",
        "    #         \n",
        "    return (beta_new)"
      ]
    },
    {
      "cell_type": "markdown",
      "metadata": {
        "id": "ON7-0dpKX_u4"
      },
      "source": [
        "**Try it out:**"
      ]
    },
    {
      "cell_type": "code",
      "execution_count": null,
      "metadata": {
        "id": "UPDeMM1FX_u4",
        "outputId": "fbb2b8f8-46bb-4893-9bad-5855f3eb3fe5"
      },
      "outputs": [
        {
          "name": "stdout",
          "output_type": "stream",
          "text": [
            "\n",
            "Our solver:\n",
            "[ 0.5   0.32 -0.09 -0.17  0.27  0.15  0.36  0.32  0.3  -0.39]\n",
            "Scikit-learn:\n",
            "[[ 0.5   0.32 -0.09 -0.17  0.27  0.15  0.36  0.32  0.3  -0.39]]\n",
            "\n",
            "Difference between the two:\n",
            "8.9e-10\n",
            "        \n"
          ]
        }
      ],
      "source": [
        "y_bin = np.sign(y) # Binarize targets\n",
        "lam = 0.1\n",
        "\n",
        "# Our solver\n",
        "beta_gradient = solveLRR_gradient(y_bin, X, lam, h=.1, max_iter=5000)\n",
        "\n",
        "# Python solver\n",
        "alpha = 2 * lam * X.shape[0]\n",
        "model = lm.LogisticRegression(C=1/alpha, fit_intercept=False)\n",
        "beta_sklearn = model.fit(X, y_bin).coef_\n",
        "\n",
        "# Check\n",
        "compare(beta_gradient, beta_sklearn)"
      ]
    },
    {
      "cell_type": "markdown",
      "metadata": {
        "id": "GcsI8Y1vX_u5"
      },
      "source": [
        "### Solving for optimal $\\beta$ using Newton-Raphson\n",
        "$$\n",
        "\\beta^{new} \\leftarrow \\beta^{old} - \\left(\\nabla^2 J(\\beta^{old})\\right)^{-1} \\nabla J(\\beta^{old})\n",
        "$$\n",
        "\n",
        "Show that each step is equivalent to solving a weighted ridge regression (WRR). Hence we can compute $\\beta$ without inverting the Hessian.\n"
      ]
    },
    {
      "cell_type": "markdown",
      "metadata": {
        "id": "IUNXgg2tX_u5"
      },
      "source": [
        "<font color='green'>Quadratic approximation to $J$</font>:\n",
        "\n",
        "$$\n",
        "J(\\beta) \\approx J_q(\\beta) = J(\\beta^{old}) + (\\beta - \\beta^{old})^\\top \\nabla J(\\beta^{old}) + \\frac{1}{2} (\\beta - \\beta^{old})^\\top \\nabla^2 J(\\beta^{old}) (\\beta - \\beta^{old})\n",
        "$$\n",
        "\n",
        "**Note:** *In one dimension:*\n",
        "$$\n",
        "f(x) \\approx f(x_0) + f'(x_0)(x-x_0) + \\frac{1}{2}f\"(x_0)(x-x_0)^2\n",
        "$$\n",
        "\n",
        "- **Step 1**: Show that $$\\min_\\beta J_q(\\beta) = \\beta^{new} $$\n"
      ]
    },
    {
      "cell_type": "markdown",
      "metadata": {
        "id": "29W5SrgRX_u6"
      },
      "source": [
        "**Solution**: We show that $\\min_\\beta J_q(\\beta) = \\beta^{old} - \\left(\\nabla^2 J(\\beta^{old})\\right)^{-1} \\nabla J(\\beta^{old}) = \\beta^{new}$\n",
        "\n",
        "*proof*: $$\\nabla J_q(\\beta) = \\nabla J(\\beta^{old}) + \\nabla^2 J(\\beta^{old}) (\\beta - \\beta^{old})$$\n",
        "$$\\nabla J_q(\\beta) = 0 \\iff \\beta = \\beta^{old} - \\left(\\nabla^2 J(\\beta^{old})\\right)^{-1} \\nabla J(\\beta^{old})$$"
      ]
    },
    {
      "cell_type": "markdown",
      "metadata": {
        "id": "TygdIGvkX_u6"
      },
      "source": [
        "- **Step 2**: Show that $J_q$ is a WRR objective -- find $W$, $z$ such that:\n",
        "<font color='green'>\n",
        "$$\n",
        "2J_q(\\beta) = (z - X\\beta)^\\top W (z - X\\beta) + 2\\lambda \\|\\beta\\|^2 + \\mathrm{C}\n",
        "$$\n",
        "</font>"
      ]
    },
    {
      "cell_type": "markdown",
      "metadata": {
        "id": "6FkDWlg0X_u6"
      },
      "source": [
        "#### Solution:\n",
        "\n",
        "Let us write all the terms in $J_q$ that depend on $\\beta$:\n",
        "$$$$\n",
        "\n",
        "- $\\beta^\\top \\nabla J(\\beta^{old}) = -\\frac{1}{n} \\beta^\\top X^\\top P(\\beta^{old}) y + 2\\lambda \\beta^\\top \\beta^{old}$\n",
        "- -$\\beta^\\top \\nabla^2 J(\\beta^{old}) \\beta^{old} = -\\frac{1}{n} \\beta^\\top X^\\top W(\\beta^{old}) X \\beta^{old} - 2\\lambda \\beta^\\top \\beta^{old}$\n",
        "- $\\frac{1}{2}\\beta^\\top \\nabla^2 J(\\beta^{old}) \\beta = \\frac{1}{2n} \\beta^\\top X^\\top W(\\beta^{old}) X \\beta + \\lambda \\beta^\\top \\beta$\n",
        "\n",
        "Putting it all together:\n",
        "$$2J_q(\\beta) = \\frac{1}{n} \\beta^\\top X^\\top W X \\beta - \\frac{2}{n} \\beta^\\top X^\\top W \\left(X \\beta^{old} + W^{-1}Py\\right) + 2\\lambda \\|\\beta\\|^2 + \\mathrm{Constant}$$\n",
        "\n",
        "We now define $z = X \\beta^{old} + W^{-1}Py$ and we can rewrite $J_q(\\beta)$ as:\n",
        "\n",
        "<font color='green'>\n",
        "$$\n",
        "2J_q(\\beta) = (z - X\\beta)^\\top W (z - X\\beta) + 2\\lambda \\|\\beta\\|^2 + \\mathrm{C}\n",
        "$$\n",
        "</font>\n",
        "\n",
        "We recognize here a **weighted ridge regression!**"
      ]
    },
    {
      "cell_type": "markdown",
      "metadata": {
        "id": "oiNfY4w0X_u7"
      },
      "source": [
        "### Implementation of Logistic Ridge Regression with Newton-Raphson method\n",
        "---"
      ]
    },
    {
      "cell_type": "markdown",
      "metadata": {
        "id": "ed1_ThayX_u7"
      },
      "source": [
        "***\n",
        "#### Recap for IRLS (code):\n",
        "\n",
        "- Set:\n",
        "    - $f_i = (\\beta^{old})^\\top x_i$\n",
        "    - $W = \\mathrm{diag}\\left[\\sigma(f_i)\\sigma(-f_i)\\right] = \\mathrm{diag}\\left[\\sigma(f_1)\\sigma(-f_1), ..., \\sigma(f_n)\\sigma(-f_n)\\right]$\n",
        "    - $z_i = f_i + \\frac{y_i} {\\sigma(y_i f_i)}$\n",
        "\n",
        "    *(You can check that $\\frac{-\\sigma(y_i f_i)}{\\sigma(f_i)\\sigma(-f_i)} = \\frac{1} {\\sigma(y_i f_i)}$*)\n",
        "\n",
        "- Call `solveWRR(z, W, X, 2`$\\lambda$`)` at each update\n",
        "\n",
        "- Stop when some criterion is reached, for example:\n",
        "    - max number of iterations is reached\n",
        "    - difference between 2 iterations is less than a threshold $\\epsilon$: \n",
        "$$\\|\\beta^{new}-\\beta^{old}\\| < \\epsilon$$\n",
        "***"
      ]
    },
    {
      "cell_type": "code",
      "execution_count": null,
      "metadata": {
        "id": "cXWmeYUSX_u7"
      },
      "outputs": [],
      "source": [
        "# Logistic Ridge Regression with Newton-Raphson\n",
        "def solveLRR_newton(y, X, lam, max_iter=500, eps=1e-3):\n",
        "    n, p = X.shape\n",
        "    assert (len(y) == n)\n",
        "    \n",
        "    # Parameters\n",
        "    max_iter = 500\n",
        "    eps = 1e-3\n",
        "    sigmoid = lambda a: 1/(1 + np.exp(-a))\n",
        "    \n",
        "    # Initialize\n",
        "    beta = np.zeros(p)\n",
        "            \n",
        "    # Hint: Use IRLS\n",
        "    for i in range(max_iter):\n",
        "        beta_old = beta\n",
        "        f = X.dot(beta_old)\n",
        "        w = sigmoid(f) * sigmoid(-f)\n",
        "        z = f + y / sigmoid(y*f)\n",
        "        beta = solveWRR(z, X, w, 2*lam)\n",
        "        # Break condition (achieved convergence)\n",
        "        if np.sum((beta-beta_old)**2) < eps:\n",
        "            break\n",
        "    return (beta)"
      ]
    },
    {
      "cell_type": "markdown",
      "metadata": {
        "id": "4TrmG6ygX_u7"
      },
      "source": [
        "#### Evaluation"
      ]
    },
    {
      "cell_type": "code",
      "execution_count": null,
      "metadata": {
        "id": "oNErvZZGX_u8",
        "outputId": "2a798524-ce3a-4c41-d9de-244ff62ec7e4"
      },
      "outputs": [
        {
          "name": "stdout",
          "output_type": "stream",
          "text": [
            "\n",
            "Our solver:\n",
            "[ 0.5   0.32 -0.09 -0.17  0.27  0.15  0.36  0.32  0.3  -0.39]\n",
            "Scikit-learn:\n",
            "[[ 0.5   0.32 -0.09 -0.17  0.27  0.15  0.36  0.32  0.3  -0.39]]\n",
            "\n",
            "Difference between the two:\n",
            "2.4e-12\n",
            "        \n"
          ]
        }
      ],
      "source": [
        "# Our solver\n",
        "beta_newton = solveLRR_newton(y_bin, X, lam)\n",
        "\n",
        "compare(beta_newton, beta_sklearn)"
      ]
    },
    {
      "cell_type": "markdown",
      "metadata": {
        "id": "VZeeq622X_u8"
      },
      "source": [
        "***\n",
        "### Mini Data Challenge\n",
        "\n",
        "We will try to predict whether patients have breast cancer.\n",
        "\n",
        "We use scikit-learn's [breast cancer dataset](https://scikit-learn.org/stable/modules/generated/sklearn.datasets.load_breast_cancer.html)\n",
        "\n",
        "30 features, 569 samples, 2 labels ('malignant' or 'benign')"
      ]
    },
    {
      "cell_type": "code",
      "execution_count": null,
      "metadata": {
        "id": "Xs8tLIWhX_u8",
        "outputId": "c6f29427-cd1b-49fc-f65d-c1f90a65a83a"
      },
      "outputs": [
        {
          "data": {
            "text/plain": [
              "(569, 30)"
            ]
          },
          "execution_count": 15,
          "metadata": {},
          "output_type": "execute_result"
        }
      ],
      "source": [
        "# Load data and split into training / validation sets\n",
        "from sklearn.datasets import load_breast_cancer\n",
        "from sklearn.model_selection import train_test_split\n",
        "\n",
        "# X, y = load_breast_cancer(return_X_y=True)\n",
        "data = load_breast_cancer()\n",
        "X, y = data['data'], data['target']\n",
        "y = 2*y - 1 # transform from {0, 1} to {-1, 1}\n",
        "\n",
        "# Hint: Scaling can be important\n",
        "X = sklearn.preprocessing.scale(X)\n",
        "\n",
        "# Split the dataset into training set and test set\n",
        "X_train, X_test, y_train, y_test = train_test_split(\n",
        "    X, y, test_size=0.33, random_state=42)\n",
        "X.shape"
      ]
    },
    {
      "cell_type": "code",
      "execution_count": null,
      "metadata": {
        "id": "TA4PrJ7bX_u9"
      },
      "outputs": [],
      "source": [
        "# Fit our model and compute its parameters\n",
        "lam = 0.01\n",
        "beta = solveLRR_newton(y_train, X_train, lam)"
      ]
    },
    {
      "cell_type": "markdown",
      "metadata": {
        "id": "5g0rqKiKX_u9"
      },
      "source": [
        "**Note:** Under the logistic model, <font color='green'>$\\sigma(y_i\\beta^\\top x_i) = \\mathbb{P}[y=y_i \\mid x_i, \\beta]$</font>\n",
        "\n",
        "- $\\mathbb{P}[y_i = 1 \\mid x_i, \\beta] = \\sigma(\\beta^\\top x_i)$ (definition of the model)\n",
        "- $\\mathbb{P}[y_i = -1 \\mid x_i, \\beta] = 1 - \\sigma(\\beta^\\top x_i) = \\sigma(-\\beta^\\top x_i)$"
      ]
    },
    {
      "cell_type": "code",
      "execution_count": null,
      "metadata": {
        "id": "0ZRAnmLTX_u9"
      },
      "outputs": [],
      "source": [
        "# Compute predicted probabilities and classes\n",
        "def sigmoid(x):\n",
        "    return 1 / (1 + np.exp(-x))\n",
        "\n",
        "probas_pred = sigmoid(X_test.dot(beta))\n",
        "\n",
        "y_pred = 2 * (probas_pred > 0.5) - 1"
      ]
    },
    {
      "cell_type": "markdown",
      "metadata": {
        "id": "XWCmiuf8X_u9"
      },
      "source": [
        "#### Performance evaluation\n",
        "---"
      ]
    },
    {
      "cell_type": "code",
      "execution_count": null,
      "metadata": {
        "id": "kBrBNP2UX_u9",
        "outputId": "1792d7b1-6049-4cf8-e821-8a3dcce203e6"
      },
      "outputs": [
        {
          "name": "stdout",
          "output_type": "stream",
          "text": [
            "Our model's performance:\n",
            "Accuracy: 98.40%\n",
            "AUC: 99.85%\n"
          ]
        }
      ],
      "source": [
        "from sklearn.metrics import accuracy_score, roc_auc_score\n",
        "\n",
        "print(\"Our model's performance:\")\n",
        "print('Accuracy: {:.2%}'.format(accuracy_score(y_test, y_pred)))\n",
        "print('AUC: {:.2%}'.format(roc_auc_score(y_test, probas_pred)))"
      ]
    },
    {
      "cell_type": "code",
      "execution_count": null,
      "metadata": {
        "id": "KzyKWnl3X_u9",
        "outputId": "ce14386f-8dbe-4252-fbc2-4e362dadc31f"
      },
      "outputs": [
        {
          "name": "stdout",
          "output_type": "stream",
          "text": [
            "              precision    recall  f1-score   support\n",
            "\n",
            "          -1       0.97      0.99      0.98        67\n",
            "           1       0.99      0.98      0.99       121\n",
            "\n",
            "    accuracy                           0.98       188\n",
            "   macro avg       0.98      0.98      0.98       188\n",
            "weighted avg       0.98      0.98      0.98       188\n",
            "\n"
          ]
        }
      ],
      "source": [
        "from sklearn.metrics import classification_report\n",
        "\n",
        "print(classification_report(y_test, y_pred))"
      ]
    },
    {
      "cell_type": "markdown",
      "metadata": {
        "id": "uRm3mYOKX_u-"
      },
      "source": [
        "#### Plotting the feature importances\n",
        "---"
      ]
    },
    {
      "cell_type": "code",
      "execution_count": null,
      "metadata": {
        "id": "ZjL83WzqX_u-",
        "outputId": "3c206dc4-2552-4c8c-c8c2-5516571cb1b7"
      },
      "outputs": [
        {
          "data": {
            "image/png": "[encoded data removed]",
            "text/plain": [
              "<Figure size 432x288 with 1 Axes>"
            ]
          },
          "metadata": {
            "needs_background": "light"
          },
          "output_type": "display_data"
        }
      ],
      "source": [
        "import matplotlib.pyplot as plt\n",
        "fig = plt.figure()\n",
        "ax = fig.add_axes([0, 0, 1, 1])\n",
        "features = data['feature_names']\n",
        "ax.barh(features, beta)\n",
        "plt.show()"
      ]
    }
  ],
  "metadata": {
    "kernelspec": {
      "display_name": "Python 3 (ipykernel)",
      "language": "python",
      "name": "python3"
    },
    "language_info": {
      "codemirror_mode": {
        "name": "ipython",
        "version": 3
      },
      "file_extension": ".py",
      "mimetype": "text/x-python",
      "name": "python",
      "nbconvert_exporter": "python",
      "pygments_lexer": "ipython3",
      "version": "3.7.6"
    },
    "colab": {
      "name": "Practical Session 2-SOLUTIONS.ipynb",
      "provenance": [],
      "include_colab_link": true
    }
  },
  "nbformat": 4,
  "nbformat_minor": 0
}